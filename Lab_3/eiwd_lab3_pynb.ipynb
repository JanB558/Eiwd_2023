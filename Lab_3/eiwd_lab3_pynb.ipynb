{
  "nbformat": 4,
  "nbformat_minor": 0,
  "metadata": {
    "colab": {
      "provenance": []
    },
    "kernelspec": {
      "name": "python3",
      "display_name": "Python 3"
    },
    "language_info": {
      "name": "python"
    }
  },
  "cells": [
    {
      "cell_type": "markdown",
      "source": [
        "Instalacja wymaganych pakietów"
      ],
      "metadata": {
        "id": "uP0Q1069Gb3J"
      }
    },
    {
      "cell_type": "code",
      "execution_count": 99,
      "metadata": {
        "colab": {
          "base_uri": "https://localhost:8080/"
        },
        "id": "hkoQN51tFxvs",
        "outputId": "431fbec8-0d03-4300-f011-f3db022c1d0e"
      },
      "outputs": [
        {
          "output_type": "stream",
          "name": "stdout",
          "text": [
            "Looking in indexes: https://pypi.org/simple, https://us-python.pkg.dev/colab-wheels/public/simple/\n",
            "Requirement already satisfied: pyspark==3.0.1 in /usr/local/lib/python3.9/dist-packages (3.0.1)\n",
            "Requirement already satisfied: py4j==0.10.9 in /usr/local/lib/python3.9/dist-packages (0.10.9)\n"
          ]
        }
      ],
      "source": [
        "! pip install pyspark==3.0.1 py4j==0.10.9"
      ]
    },
    {
      "cell_type": "markdown",
      "source": [
        "Tworzenie Spark session"
      ],
      "metadata": {
        "id": "0cBEwzukHE6R"
      }
    },
    {
      "cell_type": "code",
      "source": [
        "from pyspark.sql import SparkSession\n",
        "spark = SparkSession.builder\\\n",
        "        .master(\"local[*]\")\\\n",
        "        .appName('PySpark_Tutorial')\\\n",
        "        .getOrCreate()\n",
        "# gdzie \"*\" znaczy wszystkie rdzenie procesora."
      ],
      "metadata": {
        "id": "TjxEWdU_HNJ2"
      },
      "execution_count": 100,
      "outputs": []
    },
    {
      "cell_type": "markdown",
      "source": [
        "Podłączenie dysku google"
      ],
      "metadata": {
        "id": "bdnOqoO0In6k"
      }
    },
    {
      "cell_type": "code",
      "source": [
        "from google.colab import drive\n",
        "drive.mount('/content/drive')\n",
        "!ls \"/content/drive/My Drive\""
      ],
      "metadata": {
        "colab": {
          "base_uri": "https://localhost:8080/"
        },
        "id": "EBmeVAcjIpen",
        "outputId": "3c73061b-a2a9-46f1-eddc-dca48d0b78ce"
      },
      "execution_count": 101,
      "outputs": [
        {
          "output_type": "stream",
          "name": "stdout",
          "text": [
            "Drive already mounted at /content/drive; to attempt to forcibly remount, call drive.mount(\"/content/drive\", force_remount=True).\n",
            " Classroom  'Colab Notebooks'   IHME_HEALTH_SPENDING_1995_2018_Y2021M09D22.CSV\n"
          ]
        }
      ]
    },
    {
      "cell_type": "markdown",
      "source": [
        "Czytanie danych z pliku"
      ],
      "metadata": {
        "id": "Yb0ax-RvHrYZ"
      }
    },
    {
      "cell_type": "code",
      "source": [
        "# Czytanie z pliku csv\n",
        "csv_file = \"/content/drive/My Drive/IHME_HEALTH_SPENDING_1995_2018_Y2021M09D22.CSV\"\n",
        "df = spark.read.csv(csv_file)"
      ],
      "metadata": {
        "id": "y6pZChQeILFc"
      },
      "execution_count": 102,
      "outputs": []
    },
    {
      "cell_type": "markdown",
      "source": [
        "Strukturyzacja danych za pomocą schematu Spark"
      ],
      "metadata": {
        "id": "oWd4AkqHJEQN"
      }
    },
    {
      "cell_type": "code",
      "source": [
        "data = spark.read.csv(\n",
        "      \"/content/drive/My Drive/IHME_HEALTH_SPENDING_1995_2018_Y2021M09D22.CSV\",\n",
        "      sep=',',\n",
        "      header=True,\n",
        "      )\n",
        "data.printSchema()"
      ],
      "metadata": {
        "colab": {
          "base_uri": "https://localhost:8080/"
        },
        "id": "FJ5uCx9iJHrU",
        "outputId": "bda14131-0e52-47fd-d90d-c220e3c3b92f"
      },
      "execution_count": 109,
      "outputs": [
        {
          "output_type": "stream",
          "name": "stdout",
          "text": [
            "root\n",
            " |-- location_id: string (nullable = true)\n",
            " |-- location_name: string (nullable = true)\n",
            " |-- iso3: string (nullable = true)\n",
            " |-- level: string (nullable = true)\n",
            " |-- year: string (nullable = true)\n",
            " |-- the_total_mean: string (nullable = true)\n",
            " |-- the_total_lower: string (nullable = true)\n",
            " |-- the_total_upper: string (nullable = true)\n",
            " |-- the_total_ppp_mean: string (nullable = true)\n",
            " |-- the_total_ppp_lower: string (nullable = true)\n",
            " |-- the_total_ppp_upper: string (nullable = true)\n",
            " |-- ghes_total_mean: string (nullable = true)\n",
            " |-- ghes_total_lower: string (nullable = true)\n",
            " |-- ghes_total_upper: string (nullable = true)\n",
            " |-- ghes_total_ppp_mean: string (nullable = true)\n",
            " |-- ghes_total_ppp_lower: string (nullable = true)\n",
            " |-- ghes_total_ppp_upper: string (nullable = true)\n",
            " |-- ppp_total_mean: string (nullable = true)\n",
            " |-- ppp_total_lower: string (nullable = true)\n",
            " |-- ppp_total_upper: string (nullable = true)\n",
            " |-- ppp_total_ppp_mean: string (nullable = true)\n",
            " |-- ppp_total_ppp_lower: string (nullable = true)\n",
            " |-- ppp_total_ppp_upper: string (nullable = true)\n",
            " |-- oop_total_mean: string (nullable = true)\n",
            " |-- oop_total_lower: string (nullable = true)\n",
            " |-- oop_total_upper: string (nullable = true)\n",
            " |-- oop_total_ppp_mean: string (nullable = true)\n",
            " |-- oop_total_ppp_lower: string (nullable = true)\n",
            " |-- oop_total_ppp_upper: string (nullable = true)\n",
            " |-- dah_total_mean: string (nullable = true)\n",
            " |-- dah_total_ppp_mean: string (nullable = true)\n",
            " |-- the_per_cap_mean: string (nullable = true)\n",
            " |-- the_per_cap_lower: string (nullable = true)\n",
            " |-- the_per_cap_upper: string (nullable = true)\n",
            " |-- the_per_cap_ppp_mean: string (nullable = true)\n",
            " |-- the_per_cap_ppp_lower: string (nullable = true)\n",
            " |-- the_per_cap_ppp_upper: string (nullable = true)\n",
            " |-- ghes_per_cap_mean: string (nullable = true)\n",
            " |-- ghes_per_cap_lower: string (nullable = true)\n",
            " |-- ghes_per_cap_upper: string (nullable = true)\n",
            " |-- ghes_per_cap_ppp_mean: string (nullable = true)\n",
            " |-- ghes_per_cap_ppp_lower: string (nullable = true)\n",
            " |-- ghes_per_cap_ppp_upper: string (nullable = true)\n",
            " |-- ppp_per_cap_mean: string (nullable = true)\n",
            " |-- ppp_per_cap_lower: string (nullable = true)\n",
            " |-- ppp_per_cap_upper: string (nullable = true)\n",
            " |-- ppp_per_cap_ppp_mean: string (nullable = true)\n",
            " |-- ppp_per_cap_ppp_lower: string (nullable = true)\n",
            " |-- ppp_per_cap_ppp_upper: string (nullable = true)\n",
            " |-- oop_per_cap_mean: string (nullable = true)\n",
            " |-- oop_per_cap_lower: string (nullable = true)\n",
            " |-- oop_per_cap_upper: string (nullable = true)\n",
            " |-- oop_per_cap_ppp_mean: string (nullable = true)\n",
            " |-- oop_per_cap_ppp_lower: string (nullable = true)\n",
            " |-- oop_per_cap_ppp_upper: string (nullable = true)\n",
            " |-- dah_per_cap_mean: string (nullable = true)\n",
            " |-- dah_per_cap_ppp_mean: string (nullable = true)\n",
            " |-- ghes_per_the_mean: string (nullable = true)\n",
            " |-- ghes_per_the_lower: string (nullable = true)\n",
            " |-- ghes_per_the_upper: string (nullable = true)\n",
            " |-- ppp_per_the_mean: string (nullable = true)\n",
            " |-- ppp_per_the_lower: string (nullable = true)\n",
            " |-- ppp_per_the_upper: string (nullable = true)\n",
            " |-- oop_per_the_mean: string (nullable = true)\n",
            " |-- oop_per_the_lower: string (nullable = true)\n",
            " |-- oop_per_the_upper: string (nullable = true)\n",
            " |-- dah_per_the_mean: string (nullable = true)\n",
            " |-- dah_per_the_lower: string (nullable = true)\n",
            " |-- dah_per_the_upper: string (nullable = true)\n",
            " |-- the_per_gdp_mean: string (nullable = true)\n",
            " |-- the_per_gdp_lower: string (nullable = true)\n",
            " |-- the_per_gdp_upper: string (nullable = true)\n",
            " |-- ghes_per_gdp_mean: string (nullable = true)\n",
            " |-- ghes_per_gdp_lower: string (nullable = true)\n",
            " |-- ghes_per_gdp_upper: string (nullable = true)\n",
            " |-- ppp_per_gdp_mean: string (nullable = true)\n",
            " |-- ppp_per_gdp_lower: string (nullable = true)\n",
            " |-- ppp_per_gdp_upper: string (nullable = true)\n",
            " |-- oop_per_gdp_mean: string (nullable = true)\n",
            " |-- oop_per_gdp_lower: string (nullable = true)\n",
            " |-- oop_per_gdp_upper: string (nullable = true)\n",
            " |-- dah_per_gdp_mean: string (nullable = true)\n",
            " |-- dah_per_gdp_lower: string (nullable = true)\n",
            " |-- dah_per_gdp_upper: string (nullable = true)\n",
            "\n"
          ]
        }
      ]
    },
    {
      "cell_type": "markdown",
      "source": [
        "Manualna strukturyzacja danych"
      ],
      "metadata": {
        "id": "-0hPnrXkLKJZ"
      }
    },
    {
      "cell_type": "code",
      "source": [
        "from pyspark.sql.types import *\n",
        "\n",
        "data_schema = [\n",
        "    StructField('location_id', IntegerType(), True), #czy dopuszczalna jest wartość null\n",
        "    StructField('location_name', StringType(), True),\n",
        "    StructField('year', IntegerType(), True),\n",
        "    StructField('the_total_mean', DoubleType(), True),\n",
        "]\n",
        "\n",
        "final_struc = StructType(fields = data_schema)\n",
        "data = spark.read.csv(\n",
        "      '/content/drive/My Drive/IHME_HEALTH_SPENDING_1995_2018_Y2021M09D22.CSV',\n",
        "      sep=',',\n",
        "      header=True,\n",
        "      schema=final_struc\n",
        ")\n",
        "\n",
        "data.printSchema()"
      ],
      "metadata": {
        "colab": {
          "base_uri": "https://localhost:8080/"
        },
        "id": "ozKUdogeLMRv",
        "outputId": "d8b0d5f2-dce7-4352-f490-9b96718e9081"
      },
      "execution_count": 104,
      "outputs": [
        {
          "output_type": "stream",
          "name": "stdout",
          "text": [
            "root\n",
            " |-- location_id: integer (nullable = true)\n",
            " |-- location_name: string (nullable = true)\n",
            " |-- year: integer (nullable = true)\n",
            " |-- the_total_mean: double (nullable = true)\n",
            "\n"
          ]
        }
      ]
    },
    {
      "cell_type": "markdown",
      "source": [
        "Kontrola danych"
      ],
      "metadata": {
        "id": "0e2-vR6mL8JS"
      }
    },
    {
      "cell_type": "code",
      "source": [
        "data.schema"
      ],
      "metadata": {
        "colab": {
          "base_uri": "https://localhost:8080/"
        },
        "id": "Z6OmGkK-L9aR",
        "outputId": "1021abd9-81b6-4db9-9f6a-3f797e2a17b2"
      },
      "execution_count": 105,
      "outputs": [
        {
          "output_type": "execute_result",
          "data": {
            "text/plain": [
              "StructType(List(StructField(location_id,IntegerType,true),StructField(location_name,StringType,true),StructField(year,IntegerType,true),StructField(the_total_mean,DoubleType,true)))"
            ]
          },
          "metadata": {},
          "execution_count": 105
        }
      ]
    },
    {
      "cell_type": "code",
      "source": [
        "data.dtypes"
      ],
      "metadata": {
        "colab": {
          "base_uri": "https://localhost:8080/"
        },
        "id": "SgkX6V-LMACS",
        "outputId": "c1d0bcb8-28a6-4bbf-bfb1-0176e050b374"
      },
      "execution_count": 106,
      "outputs": [
        {
          "output_type": "execute_result",
          "data": {
            "text/plain": [
              "[('location_id', 'int'),\n",
              " ('location_name', 'string'),\n",
              " ('year', 'int'),\n",
              " ('the_total_mean', 'double')]"
            ]
          },
          "metadata": {},
          "execution_count": 106
        }
      ]
    },
    {
      "cell_type": "code",
      "source": [
        "data.head"
      ],
      "metadata": {
        "colab": {
          "base_uri": "https://localhost:8080/"
        },
        "id": "obeQuyYwMB5e",
        "outputId": "a2fc5e8d-b2fc-405d-a8df-bfbdc6d197be"
      },
      "execution_count": 107,
      "outputs": [
        {
          "output_type": "execute_result",
          "data": {
            "text/plain": [
              "<bound method DataFrame.head of DataFrame[location_id: int, location_name: string, year: int, the_total_mean: double]>"
            ]
          },
          "metadata": {},
          "execution_count": 107
        }
      ]
    },
    {
      "cell_type": "markdown",
      "source": [
        "Manipulacja kolumnami"
      ],
      "metadata": {
        "id": "7UI3K42kMLm1"
      }
    },
    {
      "cell_type": "code",
      "source": [
        "data = data.withColumn('iso3_new', data.iso3) #kopia\n",
        "data.show(5)"
      ],
      "metadata": {
        "colab": {
          "base_uri": "https://localhost:8080/"
        },
        "id": "RkAw0Os8MOCH",
        "outputId": "b89c7faf-8af1-4fb0-c62c-9a0ffb17235e"
      },
      "execution_count": 110,
      "outputs": [
        {
          "output_type": "stream",
          "name": "stdout",
          "text": [
            "+-----------+-------------+----+-------+----+--------------+---------------+---------------+------------------+-------------------+-------------------+---------------+----------------+----------------+-------------------+--------------------+--------------------+--------------+---------------+---------------+------------------+-------------------+-------------------+--------------+---------------+---------------+------------------+-------------------+-------------------+--------------+------------------+----------------+-----------------+-----------------+--------------------+---------------------+---------------------+-----------------+------------------+------------------+---------------------+----------------------+----------------------+----------------+-----------------+-----------------+--------------------+---------------------+---------------------+----------------+-----------------+-----------------+--------------------+---------------------+---------------------+----------------+--------------------+-----------------+------------------+------------------+----------------+-----------------+-----------------+----------------+-----------------+-----------------+----------------+-----------------+-----------------+----------------+-----------------+-----------------+-----------------+------------------+------------------+----------------+-----------------+-----------------+----------------+-----------------+-----------------+----------------+-----------------+-----------------+--------+\n",
            "|location_id|location_name|iso3|  level|year|the_total_mean|the_total_lower|the_total_upper|the_total_ppp_mean|the_total_ppp_lower|the_total_ppp_upper|ghes_total_mean|ghes_total_lower|ghes_total_upper|ghes_total_ppp_mean|ghes_total_ppp_lower|ghes_total_ppp_upper|ppp_total_mean|ppp_total_lower|ppp_total_upper|ppp_total_ppp_mean|ppp_total_ppp_lower|ppp_total_ppp_upper|oop_total_mean|oop_total_lower|oop_total_upper|oop_total_ppp_mean|oop_total_ppp_lower|oop_total_ppp_upper|dah_total_mean|dah_total_ppp_mean|the_per_cap_mean|the_per_cap_lower|the_per_cap_upper|the_per_cap_ppp_mean|the_per_cap_ppp_lower|the_per_cap_ppp_upper|ghes_per_cap_mean|ghes_per_cap_lower|ghes_per_cap_upper|ghes_per_cap_ppp_mean|ghes_per_cap_ppp_lower|ghes_per_cap_ppp_upper|ppp_per_cap_mean|ppp_per_cap_lower|ppp_per_cap_upper|ppp_per_cap_ppp_mean|ppp_per_cap_ppp_lower|ppp_per_cap_ppp_upper|oop_per_cap_mean|oop_per_cap_lower|oop_per_cap_upper|oop_per_cap_ppp_mean|oop_per_cap_ppp_lower|oop_per_cap_ppp_upper|dah_per_cap_mean|dah_per_cap_ppp_mean|ghes_per_the_mean|ghes_per_the_lower|ghes_per_the_upper|ppp_per_the_mean|ppp_per_the_lower|ppp_per_the_upper|oop_per_the_mean|oop_per_the_lower|oop_per_the_upper|dah_per_the_mean|dah_per_the_lower|dah_per_the_upper|the_per_gdp_mean|the_per_gdp_lower|the_per_gdp_upper|ghes_per_gdp_mean|ghes_per_gdp_lower|ghes_per_gdp_upper|ppp_per_gdp_mean|ppp_per_gdp_lower|ppp_per_gdp_upper|oop_per_gdp_mean|oop_per_gdp_lower|oop_per_gdp_upper|dah_per_gdp_mean|dah_per_gdp_lower|dah_per_gdp_upper|iso3_new|\n",
            "+-----------+-------------+----+-------+----+--------------+---------------+---------------+------------------+-------------------+-------------------+---------------+----------------+----------------+-------------------+--------------------+--------------------+--------------+---------------+---------------+------------------+-------------------+-------------------+--------------+---------------+---------------+------------------+-------------------+-------------------+--------------+------------------+----------------+-----------------+-----------------+--------------------+---------------------+---------------------+-----------------+------------------+------------------+---------------------+----------------------+----------------------+----------------+-----------------+-----------------+--------------------+---------------------+---------------------+----------------+-----------------+-----------------+--------------------+---------------------+---------------------+----------------+--------------------+-----------------+------------------+------------------+----------------+-----------------+-----------------+----------------+-----------------+-----------------+----------------+-----------------+-----------------+----------------+-----------------+-----------------+-----------------+------------------+------------------+----------------+-----------------+-----------------+----------------+-----------------+-----------------+----------------+-----------------+-----------------+--------+\n",
            "|        160|  Afghanistan| AFG|Country|1995|        528409|         417121|         665425|           2193179|            1731272|            2761865|          14643|           11814|           17779|              60775|               49036|               73792|            20|              0|             51|                81|                  0|                212|        509515|         398261|         647195|           2114759|            1652995|            2686205|          4232|             17563|              30|               24|               38|                 125|                   99|                  158|                1|                 1|                 1|                    3|                     3|                     4|               0|                0|                0|                   0|                    0|                    0|              29|               23|               37|                 121|                   95|                  154|               0|                   1|            0.028|              0.02|             0.037|               0|                0|                0|           0.964|            0.953|            0.973|           0.008|            0.006|             0.01|           0.104|             0.08|            0.133|            0.003|             0.002|             0.004|               0|                0|                0|             0.1|            0.076|            0.129|           0.001|            0.001|            0.001|     AFG|\n",
            "|        160|  Afghanistan| AFG|Country|1996|        516915|         412035|         651034|           2145473|            1710165|            2702136|          13771|           11138|           16872|              57159|               46227|               70026|            25|              0|             52|               102|                  0|                217|        497261|         391328|         632006|           2063899|            1624221|            2623161|          5858|             24313|              28|               23|               36|                 118|                   94|                  148|                1|                 1|                 1|                    3|                     3|                     4|               0|                0|                0|                   0|                    0|                    0|              27|               21|               35|                 113|                   89|                  144|               0|                   1|            0.027|             0.019|             0.036|               0|                0|                0|           0.961|             0.95|            0.971|           0.011|            0.009|            0.014|           0.099|            0.076|            0.128|            0.003|             0.002|             0.003|               0|                0|                0|           0.096|            0.072|            0.124|           0.001|            0.001|            0.001|     AFG|\n",
            "|        160|  Afghanistan| AFG|Country|1997|        509874|         413424|         636436|           2116248|            1715930|            2641549|          12864|           10480|           15698|              53392|               43499|               65155|            26|              0|             51|               108|                  0|                211|        485094|         387884|         610799|           2013397|            1609925|            2535139|         11890|             49350|              27|               22|               34|                 112|                   91|                  140|                1|                 1|                 1|                    3|                     2|                     3|               0|                0|                0|                   0|                    0|                    0|              26|               21|               32|                 107|                   85|                  134|               1|                   3|            0.026|             0.018|             0.034|               0|                0|                0|           0.951|            0.938|            0.962|           0.024|            0.019|            0.029|           0.101|            0.079|            0.129|            0.003|             0.002|             0.003|               0|                0|                0|           0.096|            0.075|            0.124|           0.002|            0.002|            0.003|     AFG|\n",
            "|        160|  Afghanistan| AFG|Country|1998|        485561|         394629|         605041|           2015335|            1637919|            2511240|          12020|            9689|           14652|              49889|               40216|               60812|            25|              0|             49|               105|                  0|                202|        468699|         377467|         587578|           1945349|            1566688|            2438759|          4817|             19991|              25|               21|               32|                 105|                   85|                  131|                1|                 1|                 1|                    3|                     2|                     3|               0|                0|                0|                   0|                    0|                    0|              24|               20|               31|                 102|                   82|                  127|               0|                   1|            0.025|             0.018|             0.033|               0|                0|                0|           0.965|            0.955|            0.973|            0.01|            0.008|            0.012|             0.1|             0.08|            0.126|            0.002|             0.002|             0.003|               0|                0|                0|           0.096|            0.076|            0.123|           0.001|            0.001|            0.001|     AFG|\n",
            "|        160|  Afghanistan| AFG|Country|1999|        463720|         382723|         564170|           1924685|            1588504|            2341603|          11055|            8943|           13521|              45884|               37119|               56119|            25|              0|             46|               104|                  0|                192|        444298|         362573|         545080|           1844071|            1504872|            2262371|          8343|             34626|              24|               20|               29|                 100|                   83|                  122|                1|                 0|                 1|                    2|                     2|                     3|               0|                0|                0|                   0|                    0|                    0|              23|               19|               28|                  96|                   78|                  118|               0|                   2|            0.024|             0.018|             0.031|               0|                0|                0|           0.958|            0.947|            0.967|           0.018|            0.015|            0.022|           0.101|            0.082|            0.124|            0.002|             0.002|             0.003|               0|                0|                0|           0.096|            0.077|             0.12|           0.002|            0.002|            0.002|     AFG|\n",
            "+-----------+-------------+----+-------+----+--------------+---------------+---------------+------------------+-------------------+-------------------+---------------+----------------+----------------+-------------------+--------------------+--------------------+--------------+---------------+---------------+------------------+-------------------+-------------------+--------------+---------------+---------------+------------------+-------------------+-------------------+--------------+------------------+----------------+-----------------+-----------------+--------------------+---------------------+---------------------+-----------------+------------------+------------------+---------------------+----------------------+----------------------+----------------+-----------------+-----------------+--------------------+---------------------+---------------------+----------------+-----------------+-----------------+--------------------+---------------------+---------------------+----------------+--------------------+-----------------+------------------+------------------+----------------+-----------------+-----------------+----------------+-----------------+-----------------+----------------+-----------------+-----------------+----------------+-----------------+-----------------+-----------------+------------------+------------------+----------------+-----------------+-----------------+----------------+-----------------+-----------------+----------------+-----------------+-----------------+--------+\n",
            "only showing top 5 rows\n",
            "\n"
          ]
        }
      ]
    },
    {
      "cell_type": "code",
      "source": [
        "data = data.withColumnRenamed('iso3_new', 'iso3_new_mark2') #zmiana nazwy\n",
        "data.show(5)"
      ],
      "metadata": {
        "colab": {
          "base_uri": "https://localhost:8080/"
        },
        "id": "WW6o3x3EM8ja",
        "outputId": "acf94254-11e7-4f08-8c77-26e931526702"
      },
      "execution_count": 111,
      "outputs": [
        {
          "output_type": "stream",
          "name": "stdout",
          "text": [
            "+-----------+-------------+----+-------+----+--------------+---------------+---------------+------------------+-------------------+-------------------+---------------+----------------+----------------+-------------------+--------------------+--------------------+--------------+---------------+---------------+------------------+-------------------+-------------------+--------------+---------------+---------------+------------------+-------------------+-------------------+--------------+------------------+----------------+-----------------+-----------------+--------------------+---------------------+---------------------+-----------------+------------------+------------------+---------------------+----------------------+----------------------+----------------+-----------------+-----------------+--------------------+---------------------+---------------------+----------------+-----------------+-----------------+--------------------+---------------------+---------------------+----------------+--------------------+-----------------+------------------+------------------+----------------+-----------------+-----------------+----------------+-----------------+-----------------+----------------+-----------------+-----------------+----------------+-----------------+-----------------+-----------------+------------------+------------------+----------------+-----------------+-----------------+----------------+-----------------+-----------------+----------------+-----------------+-----------------+--------------+\n",
            "|location_id|location_name|iso3|  level|year|the_total_mean|the_total_lower|the_total_upper|the_total_ppp_mean|the_total_ppp_lower|the_total_ppp_upper|ghes_total_mean|ghes_total_lower|ghes_total_upper|ghes_total_ppp_mean|ghes_total_ppp_lower|ghes_total_ppp_upper|ppp_total_mean|ppp_total_lower|ppp_total_upper|ppp_total_ppp_mean|ppp_total_ppp_lower|ppp_total_ppp_upper|oop_total_mean|oop_total_lower|oop_total_upper|oop_total_ppp_mean|oop_total_ppp_lower|oop_total_ppp_upper|dah_total_mean|dah_total_ppp_mean|the_per_cap_mean|the_per_cap_lower|the_per_cap_upper|the_per_cap_ppp_mean|the_per_cap_ppp_lower|the_per_cap_ppp_upper|ghes_per_cap_mean|ghes_per_cap_lower|ghes_per_cap_upper|ghes_per_cap_ppp_mean|ghes_per_cap_ppp_lower|ghes_per_cap_ppp_upper|ppp_per_cap_mean|ppp_per_cap_lower|ppp_per_cap_upper|ppp_per_cap_ppp_mean|ppp_per_cap_ppp_lower|ppp_per_cap_ppp_upper|oop_per_cap_mean|oop_per_cap_lower|oop_per_cap_upper|oop_per_cap_ppp_mean|oop_per_cap_ppp_lower|oop_per_cap_ppp_upper|dah_per_cap_mean|dah_per_cap_ppp_mean|ghes_per_the_mean|ghes_per_the_lower|ghes_per_the_upper|ppp_per_the_mean|ppp_per_the_lower|ppp_per_the_upper|oop_per_the_mean|oop_per_the_lower|oop_per_the_upper|dah_per_the_mean|dah_per_the_lower|dah_per_the_upper|the_per_gdp_mean|the_per_gdp_lower|the_per_gdp_upper|ghes_per_gdp_mean|ghes_per_gdp_lower|ghes_per_gdp_upper|ppp_per_gdp_mean|ppp_per_gdp_lower|ppp_per_gdp_upper|oop_per_gdp_mean|oop_per_gdp_lower|oop_per_gdp_upper|dah_per_gdp_mean|dah_per_gdp_lower|dah_per_gdp_upper|iso3_new_mark2|\n",
            "+-----------+-------------+----+-------+----+--------------+---------------+---------------+------------------+-------------------+-------------------+---------------+----------------+----------------+-------------------+--------------------+--------------------+--------------+---------------+---------------+------------------+-------------------+-------------------+--------------+---------------+---------------+------------------+-------------------+-------------------+--------------+------------------+----------------+-----------------+-----------------+--------------------+---------------------+---------------------+-----------------+------------------+------------------+---------------------+----------------------+----------------------+----------------+-----------------+-----------------+--------------------+---------------------+---------------------+----------------+-----------------+-----------------+--------------------+---------------------+---------------------+----------------+--------------------+-----------------+------------------+------------------+----------------+-----------------+-----------------+----------------+-----------------+-----------------+----------------+-----------------+-----------------+----------------+-----------------+-----------------+-----------------+------------------+------------------+----------------+-----------------+-----------------+----------------+-----------------+-----------------+----------------+-----------------+-----------------+--------------+\n",
            "|        160|  Afghanistan| AFG|Country|1995|        528409|         417121|         665425|           2193179|            1731272|            2761865|          14643|           11814|           17779|              60775|               49036|               73792|            20|              0|             51|                81|                  0|                212|        509515|         398261|         647195|           2114759|            1652995|            2686205|          4232|             17563|              30|               24|               38|                 125|                   99|                  158|                1|                 1|                 1|                    3|                     3|                     4|               0|                0|                0|                   0|                    0|                    0|              29|               23|               37|                 121|                   95|                  154|               0|                   1|            0.028|              0.02|             0.037|               0|                0|                0|           0.964|            0.953|            0.973|           0.008|            0.006|             0.01|           0.104|             0.08|            0.133|            0.003|             0.002|             0.004|               0|                0|                0|             0.1|            0.076|            0.129|           0.001|            0.001|            0.001|           AFG|\n",
            "|        160|  Afghanistan| AFG|Country|1996|        516915|         412035|         651034|           2145473|            1710165|            2702136|          13771|           11138|           16872|              57159|               46227|               70026|            25|              0|             52|               102|                  0|                217|        497261|         391328|         632006|           2063899|            1624221|            2623161|          5858|             24313|              28|               23|               36|                 118|                   94|                  148|                1|                 1|                 1|                    3|                     3|                     4|               0|                0|                0|                   0|                    0|                    0|              27|               21|               35|                 113|                   89|                  144|               0|                   1|            0.027|             0.019|             0.036|               0|                0|                0|           0.961|             0.95|            0.971|           0.011|            0.009|            0.014|           0.099|            0.076|            0.128|            0.003|             0.002|             0.003|               0|                0|                0|           0.096|            0.072|            0.124|           0.001|            0.001|            0.001|           AFG|\n",
            "|        160|  Afghanistan| AFG|Country|1997|        509874|         413424|         636436|           2116248|            1715930|            2641549|          12864|           10480|           15698|              53392|               43499|               65155|            26|              0|             51|               108|                  0|                211|        485094|         387884|         610799|           2013397|            1609925|            2535139|         11890|             49350|              27|               22|               34|                 112|                   91|                  140|                1|                 1|                 1|                    3|                     2|                     3|               0|                0|                0|                   0|                    0|                    0|              26|               21|               32|                 107|                   85|                  134|               1|                   3|            0.026|             0.018|             0.034|               0|                0|                0|           0.951|            0.938|            0.962|           0.024|            0.019|            0.029|           0.101|            0.079|            0.129|            0.003|             0.002|             0.003|               0|                0|                0|           0.096|            0.075|            0.124|           0.002|            0.002|            0.003|           AFG|\n",
            "|        160|  Afghanistan| AFG|Country|1998|        485561|         394629|         605041|           2015335|            1637919|            2511240|          12020|            9689|           14652|              49889|               40216|               60812|            25|              0|             49|               105|                  0|                202|        468699|         377467|         587578|           1945349|            1566688|            2438759|          4817|             19991|              25|               21|               32|                 105|                   85|                  131|                1|                 1|                 1|                    3|                     2|                     3|               0|                0|                0|                   0|                    0|                    0|              24|               20|               31|                 102|                   82|                  127|               0|                   1|            0.025|             0.018|             0.033|               0|                0|                0|           0.965|            0.955|            0.973|            0.01|            0.008|            0.012|             0.1|             0.08|            0.126|            0.002|             0.002|             0.003|               0|                0|                0|           0.096|            0.076|            0.123|           0.001|            0.001|            0.001|           AFG|\n",
            "|        160|  Afghanistan| AFG|Country|1999|        463720|         382723|         564170|           1924685|            1588504|            2341603|          11055|            8943|           13521|              45884|               37119|               56119|            25|              0|             46|               104|                  0|                192|        444298|         362573|         545080|           1844071|            1504872|            2262371|          8343|             34626|              24|               20|               29|                 100|                   83|                  122|                1|                 0|                 1|                    2|                     2|                     3|               0|                0|                0|                   0|                    0|                    0|              23|               19|               28|                  96|                   78|                  118|               0|                   2|            0.024|             0.018|             0.031|               0|                0|                0|           0.958|            0.947|            0.967|           0.018|            0.015|            0.022|           0.101|            0.082|            0.124|            0.002|             0.002|             0.003|               0|                0|                0|           0.096|            0.077|             0.12|           0.002|            0.002|            0.002|           AFG|\n",
            "+-----------+-------------+----+-------+----+--------------+---------------+---------------+------------------+-------------------+-------------------+---------------+----------------+----------------+-------------------+--------------------+--------------------+--------------+---------------+---------------+------------------+-------------------+-------------------+--------------+---------------+---------------+------------------+-------------------+-------------------+--------------+------------------+----------------+-----------------+-----------------+--------------------+---------------------+---------------------+-----------------+------------------+------------------+---------------------+----------------------+----------------------+----------------+-----------------+-----------------+--------------------+---------------------+---------------------+----------------+-----------------+-----------------+--------------------+---------------------+---------------------+----------------+--------------------+-----------------+------------------+------------------+----------------+-----------------+-----------------+----------------+-----------------+-----------------+----------------+-----------------+-----------------+----------------+-----------------+-----------------+-----------------+------------------+------------------+----------------+-----------------+-----------------+----------------+-----------------+-----------------+----------------+-----------------+-----------------+--------------+\n",
            "only showing top 5 rows\n",
            "\n"
          ]
        }
      ]
    },
    {
      "cell_type": "code",
      "source": [
        "data = data.drop('iso3_new_mark2') #kasacja\n",
        "data.show(5)"
      ],
      "metadata": {
        "colab": {
          "base_uri": "https://localhost:8080/"
        },
        "id": "XnVccbQrNHTT",
        "outputId": "19511d79-ebbc-493e-973f-92f79ff19baa"
      },
      "execution_count": 112,
      "outputs": [
        {
          "output_type": "stream",
          "name": "stdout",
          "text": [
            "+-----------+-------------+----+-------+----+--------------+---------------+---------------+------------------+-------------------+-------------------+---------------+----------------+----------------+-------------------+--------------------+--------------------+--------------+---------------+---------------+------------------+-------------------+-------------------+--------------+---------------+---------------+------------------+-------------------+-------------------+--------------+------------------+----------------+-----------------+-----------------+--------------------+---------------------+---------------------+-----------------+------------------+------------------+---------------------+----------------------+----------------------+----------------+-----------------+-----------------+--------------------+---------------------+---------------------+----------------+-----------------+-----------------+--------------------+---------------------+---------------------+----------------+--------------------+-----------------+------------------+------------------+----------------+-----------------+-----------------+----------------+-----------------+-----------------+----------------+-----------------+-----------------+----------------+-----------------+-----------------+-----------------+------------------+------------------+----------------+-----------------+-----------------+----------------+-----------------+-----------------+----------------+-----------------+-----------------+\n",
            "|location_id|location_name|iso3|  level|year|the_total_mean|the_total_lower|the_total_upper|the_total_ppp_mean|the_total_ppp_lower|the_total_ppp_upper|ghes_total_mean|ghes_total_lower|ghes_total_upper|ghes_total_ppp_mean|ghes_total_ppp_lower|ghes_total_ppp_upper|ppp_total_mean|ppp_total_lower|ppp_total_upper|ppp_total_ppp_mean|ppp_total_ppp_lower|ppp_total_ppp_upper|oop_total_mean|oop_total_lower|oop_total_upper|oop_total_ppp_mean|oop_total_ppp_lower|oop_total_ppp_upper|dah_total_mean|dah_total_ppp_mean|the_per_cap_mean|the_per_cap_lower|the_per_cap_upper|the_per_cap_ppp_mean|the_per_cap_ppp_lower|the_per_cap_ppp_upper|ghes_per_cap_mean|ghes_per_cap_lower|ghes_per_cap_upper|ghes_per_cap_ppp_mean|ghes_per_cap_ppp_lower|ghes_per_cap_ppp_upper|ppp_per_cap_mean|ppp_per_cap_lower|ppp_per_cap_upper|ppp_per_cap_ppp_mean|ppp_per_cap_ppp_lower|ppp_per_cap_ppp_upper|oop_per_cap_mean|oop_per_cap_lower|oop_per_cap_upper|oop_per_cap_ppp_mean|oop_per_cap_ppp_lower|oop_per_cap_ppp_upper|dah_per_cap_mean|dah_per_cap_ppp_mean|ghes_per_the_mean|ghes_per_the_lower|ghes_per_the_upper|ppp_per_the_mean|ppp_per_the_lower|ppp_per_the_upper|oop_per_the_mean|oop_per_the_lower|oop_per_the_upper|dah_per_the_mean|dah_per_the_lower|dah_per_the_upper|the_per_gdp_mean|the_per_gdp_lower|the_per_gdp_upper|ghes_per_gdp_mean|ghes_per_gdp_lower|ghes_per_gdp_upper|ppp_per_gdp_mean|ppp_per_gdp_lower|ppp_per_gdp_upper|oop_per_gdp_mean|oop_per_gdp_lower|oop_per_gdp_upper|dah_per_gdp_mean|dah_per_gdp_lower|dah_per_gdp_upper|\n",
            "+-----------+-------------+----+-------+----+--------------+---------------+---------------+------------------+-------------------+-------------------+---------------+----------------+----------------+-------------------+--------------------+--------------------+--------------+---------------+---------------+------------------+-------------------+-------------------+--------------+---------------+---------------+------------------+-------------------+-------------------+--------------+------------------+----------------+-----------------+-----------------+--------------------+---------------------+---------------------+-----------------+------------------+------------------+---------------------+----------------------+----------------------+----------------+-----------------+-----------------+--------------------+---------------------+---------------------+----------------+-----------------+-----------------+--------------------+---------------------+---------------------+----------------+--------------------+-----------------+------------------+------------------+----------------+-----------------+-----------------+----------------+-----------------+-----------------+----------------+-----------------+-----------------+----------------+-----------------+-----------------+-----------------+------------------+------------------+----------------+-----------------+-----------------+----------------+-----------------+-----------------+----------------+-----------------+-----------------+\n",
            "|        160|  Afghanistan| AFG|Country|1995|        528409|         417121|         665425|           2193179|            1731272|            2761865|          14643|           11814|           17779|              60775|               49036|               73792|            20|              0|             51|                81|                  0|                212|        509515|         398261|         647195|           2114759|            1652995|            2686205|          4232|             17563|              30|               24|               38|                 125|                   99|                  158|                1|                 1|                 1|                    3|                     3|                     4|               0|                0|                0|                   0|                    0|                    0|              29|               23|               37|                 121|                   95|                  154|               0|                   1|            0.028|              0.02|             0.037|               0|                0|                0|           0.964|            0.953|            0.973|           0.008|            0.006|             0.01|           0.104|             0.08|            0.133|            0.003|             0.002|             0.004|               0|                0|                0|             0.1|            0.076|            0.129|           0.001|            0.001|            0.001|\n",
            "|        160|  Afghanistan| AFG|Country|1996|        516915|         412035|         651034|           2145473|            1710165|            2702136|          13771|           11138|           16872|              57159|               46227|               70026|            25|              0|             52|               102|                  0|                217|        497261|         391328|         632006|           2063899|            1624221|            2623161|          5858|             24313|              28|               23|               36|                 118|                   94|                  148|                1|                 1|                 1|                    3|                     3|                     4|               0|                0|                0|                   0|                    0|                    0|              27|               21|               35|                 113|                   89|                  144|               0|                   1|            0.027|             0.019|             0.036|               0|                0|                0|           0.961|             0.95|            0.971|           0.011|            0.009|            0.014|           0.099|            0.076|            0.128|            0.003|             0.002|             0.003|               0|                0|                0|           0.096|            0.072|            0.124|           0.001|            0.001|            0.001|\n",
            "|        160|  Afghanistan| AFG|Country|1997|        509874|         413424|         636436|           2116248|            1715930|            2641549|          12864|           10480|           15698|              53392|               43499|               65155|            26|              0|             51|               108|                  0|                211|        485094|         387884|         610799|           2013397|            1609925|            2535139|         11890|             49350|              27|               22|               34|                 112|                   91|                  140|                1|                 1|                 1|                    3|                     2|                     3|               0|                0|                0|                   0|                    0|                    0|              26|               21|               32|                 107|                   85|                  134|               1|                   3|            0.026|             0.018|             0.034|               0|                0|                0|           0.951|            0.938|            0.962|           0.024|            0.019|            0.029|           0.101|            0.079|            0.129|            0.003|             0.002|             0.003|               0|                0|                0|           0.096|            0.075|            0.124|           0.002|            0.002|            0.003|\n",
            "|        160|  Afghanistan| AFG|Country|1998|        485561|         394629|         605041|           2015335|            1637919|            2511240|          12020|            9689|           14652|              49889|               40216|               60812|            25|              0|             49|               105|                  0|                202|        468699|         377467|         587578|           1945349|            1566688|            2438759|          4817|             19991|              25|               21|               32|                 105|                   85|                  131|                1|                 1|                 1|                    3|                     2|                     3|               0|                0|                0|                   0|                    0|                    0|              24|               20|               31|                 102|                   82|                  127|               0|                   1|            0.025|             0.018|             0.033|               0|                0|                0|           0.965|            0.955|            0.973|            0.01|            0.008|            0.012|             0.1|             0.08|            0.126|            0.002|             0.002|             0.003|               0|                0|                0|           0.096|            0.076|            0.123|           0.001|            0.001|            0.001|\n",
            "|        160|  Afghanistan| AFG|Country|1999|        463720|         382723|         564170|           1924685|            1588504|            2341603|          11055|            8943|           13521|              45884|               37119|               56119|            25|              0|             46|               104|                  0|                192|        444298|         362573|         545080|           1844071|            1504872|            2262371|          8343|             34626|              24|               20|               29|                 100|                   83|                  122|                1|                 0|                 1|                    2|                     2|                     3|               0|                0|                0|                   0|                    0|                    0|              23|               19|               28|                  96|                   78|                  118|               0|                   2|            0.024|             0.018|             0.031|               0|                0|                0|           0.958|            0.947|            0.967|           0.018|            0.015|            0.022|           0.101|            0.082|            0.124|            0.002|             0.002|             0.003|               0|                0|                0|           0.096|            0.077|             0.12|           0.002|            0.002|            0.002|\n",
            "+-----------+-------------+----+-------+----+--------------+---------------+---------------+------------------+-------------------+-------------------+---------------+----------------+----------------+-------------------+--------------------+--------------------+--------------+---------------+---------------+------------------+-------------------+-------------------+--------------+---------------+---------------+------------------+-------------------+-------------------+--------------+------------------+----------------+-----------------+-----------------+--------------------+---------------------+---------------------+-----------------+------------------+------------------+---------------------+----------------------+----------------------+----------------+-----------------+-----------------+--------------------+---------------------+---------------------+----------------+-----------------+-----------------+--------------------+---------------------+---------------------+----------------+--------------------+-----------------+------------------+------------------+----------------+-----------------+-----------------+----------------+-----------------+-----------------+----------------+-----------------+-----------------+----------------+-----------------+-----------------+-----------------+------------------+------------------+----------------+-----------------+-----------------+----------------+-----------------+-----------------+----------------+-----------------+-----------------+\n",
            "only showing top 5 rows\n",
            "\n"
          ]
        }
      ]
    },
    {
      "cell_type": "markdown",
      "source": [
        "Obróbka brakujących wartości"
      ],
      "metadata": {
        "id": "l_JWBHPFNPSn"
      }
    },
    {
      "cell_type": "code",
      "source": [
        "from pyspark.sql import functions as f\n",
        "#usuwanie wierszy z brakującymi wartościami\n",
        "data.na.drop()\n",
        "#zastąpienie brakującej wartości za pomocą średniej\n",
        "data.na.fill(data.select(f.mean(data['ghes_per_cap_upper'])).collect()[0][0])\n",
        "#zastąpienie brakujących wartości nowymi\n",
        "#data.na.replace(old_value, new_vallue)"
      ],
      "metadata": {
        "colab": {
          "base_uri": "https://localhost:8080/"
        },
        "id": "MkM3ODGwNRW3",
        "outputId": "9f5bd126-636c-40d2-d8fe-f891c939c2b3"
      },
      "execution_count": 113,
      "outputs": [
        {
          "output_type": "execute_result",
          "data": {
            "text/plain": [
              "DataFrame[location_id: string, location_name: string, iso3: string, level: string, year: string, the_total_mean: string, the_total_lower: string, the_total_upper: string, the_total_ppp_mean: string, the_total_ppp_lower: string, the_total_ppp_upper: string, ghes_total_mean: string, ghes_total_lower: string, ghes_total_upper: string, ghes_total_ppp_mean: string, ghes_total_ppp_lower: string, ghes_total_ppp_upper: string, ppp_total_mean: string, ppp_total_lower: string, ppp_total_upper: string, ppp_total_ppp_mean: string, ppp_total_ppp_lower: string, ppp_total_ppp_upper: string, oop_total_mean: string, oop_total_lower: string, oop_total_upper: string, oop_total_ppp_mean: string, oop_total_ppp_lower: string, oop_total_ppp_upper: string, dah_total_mean: string, dah_total_ppp_mean: string, the_per_cap_mean: string, the_per_cap_lower: string, the_per_cap_upper: string, the_per_cap_ppp_mean: string, the_per_cap_ppp_lower: string, the_per_cap_ppp_upper: string, ghes_per_cap_mean: string, ghes_per_cap_lower: string, ghes_per_cap_upper: string, ghes_per_cap_ppp_mean: string, ghes_per_cap_ppp_lower: string, ghes_per_cap_ppp_upper: string, ppp_per_cap_mean: string, ppp_per_cap_lower: string, ppp_per_cap_upper: string, ppp_per_cap_ppp_mean: string, ppp_per_cap_ppp_lower: string, ppp_per_cap_ppp_upper: string, oop_per_cap_mean: string, oop_per_cap_lower: string, oop_per_cap_upper: string, oop_per_cap_ppp_mean: string, oop_per_cap_ppp_lower: string, oop_per_cap_ppp_upper: string, dah_per_cap_mean: string, dah_per_cap_ppp_mean: string, ghes_per_the_mean: string, ghes_per_the_lower: string, ghes_per_the_upper: string, ppp_per_the_mean: string, ppp_per_the_lower: string, ppp_per_the_upper: string, oop_per_the_mean: string, oop_per_the_lower: string, oop_per_the_upper: string, dah_per_the_mean: string, dah_per_the_lower: string, dah_per_the_upper: string, the_per_gdp_mean: string, the_per_gdp_lower: string, the_per_gdp_upper: string, ghes_per_gdp_mean: string, ghes_per_gdp_lower: string, ghes_per_gdp_upper: string, ppp_per_gdp_mean: string, ppp_per_gdp_lower: string, ppp_per_gdp_upper: string, oop_per_gdp_mean: string, oop_per_gdp_lower: string, oop_per_gdp_upper: string, dah_per_gdp_mean: string, dah_per_gdp_lower: string, dah_per_gdp_upper: string]"
            ]
          },
          "metadata": {},
          "execution_count": 113
        }
      ]
    },
    {
      "cell_type": "markdown",
      "source": [
        "Pobieranie danych"
      ],
      "metadata": {
        "id": "_w6HTvQQNyDo"
      }
    },
    {
      "cell_type": "markdown",
      "source": [
        "Select"
      ],
      "metadata": {
        "id": "pXGrCPf0NzUK"
      }
    },
    {
      "cell_type": "code",
      "source": [
        "data.select(['location_name', 'year', 'the_total_mean']).show(5)"
      ],
      "metadata": {
        "colab": {
          "base_uri": "https://localhost:8080/"
        },
        "id": "fOev5wtjNz6T",
        "outputId": "810f81bc-4a8d-4d0d-a627-2df84bf0c3f8"
      },
      "execution_count": 114,
      "outputs": [
        {
          "output_type": "stream",
          "name": "stdout",
          "text": [
            "+-------------+----+--------------+\n",
            "|location_name|year|the_total_mean|\n",
            "+-------------+----+--------------+\n",
            "|  Afghanistan|1995|        528409|\n",
            "|  Afghanistan|1996|        516915|\n",
            "|  Afghanistan|1997|        509874|\n",
            "|  Afghanistan|1998|        485561|\n",
            "|  Afghanistan|1999|        463720|\n",
            "+-------------+----+--------------+\n",
            "only showing top 5 rows\n",
            "\n"
          ]
        }
      ]
    },
    {
      "cell_type": "markdown",
      "source": [
        "Filter"
      ],
      "metadata": {
        "id": "yZx-Nq-3OBqX"
      }
    },
    {
      "cell_type": "code",
      "source": [
        "#filtrowanie na podstawie warunku & | ~(not)\n",
        "from pyspark.sql.functions import col\n",
        "data.filter((col('year') >= 2000) & (col('year') <= 2003)).show(5)"
      ],
      "metadata": {
        "colab": {
          "base_uri": "https://localhost:8080/"
        },
        "id": "zNYX89JBOCsK",
        "outputId": "4a570d87-5184-4200-eb2e-4c27d7f855b1"
      },
      "execution_count": 115,
      "outputs": [
        {
          "output_type": "stream",
          "name": "stdout",
          "text": [
            "+-----------+-------------+----+-------+----+--------------+---------------+---------------+------------------+-------------------+-------------------+---------------+----------------+----------------+-------------------+--------------------+--------------------+--------------+---------------+---------------+------------------+-------------------+-------------------+--------------+---------------+---------------+------------------+-------------------+-------------------+--------------+------------------+----------------+-----------------+-----------------+--------------------+---------------------+---------------------+-----------------+------------------+------------------+---------------------+----------------------+----------------------+----------------+-----------------+-----------------+--------------------+---------------------+---------------------+----------------+-----------------+-----------------+--------------------+---------------------+---------------------+----------------+--------------------+-----------------+------------------+------------------+----------------+-----------------+-----------------+----------------+-----------------+-----------------+----------------+-----------------+-----------------+----------------+-----------------+-----------------+-----------------+------------------+------------------+----------------+-----------------+-----------------+----------------+-----------------+-----------------+----------------+-----------------+-----------------+\n",
            "|location_id|location_name|iso3|  level|year|the_total_mean|the_total_lower|the_total_upper|the_total_ppp_mean|the_total_ppp_lower|the_total_ppp_upper|ghes_total_mean|ghes_total_lower|ghes_total_upper|ghes_total_ppp_mean|ghes_total_ppp_lower|ghes_total_ppp_upper|ppp_total_mean|ppp_total_lower|ppp_total_upper|ppp_total_ppp_mean|ppp_total_ppp_lower|ppp_total_ppp_upper|oop_total_mean|oop_total_lower|oop_total_upper|oop_total_ppp_mean|oop_total_ppp_lower|oop_total_ppp_upper|dah_total_mean|dah_total_ppp_mean|the_per_cap_mean|the_per_cap_lower|the_per_cap_upper|the_per_cap_ppp_mean|the_per_cap_ppp_lower|the_per_cap_ppp_upper|ghes_per_cap_mean|ghes_per_cap_lower|ghes_per_cap_upper|ghes_per_cap_ppp_mean|ghes_per_cap_ppp_lower|ghes_per_cap_ppp_upper|ppp_per_cap_mean|ppp_per_cap_lower|ppp_per_cap_upper|ppp_per_cap_ppp_mean|ppp_per_cap_ppp_lower|ppp_per_cap_ppp_upper|oop_per_cap_mean|oop_per_cap_lower|oop_per_cap_upper|oop_per_cap_ppp_mean|oop_per_cap_ppp_lower|oop_per_cap_ppp_upper|dah_per_cap_mean|dah_per_cap_ppp_mean|ghes_per_the_mean|ghes_per_the_lower|ghes_per_the_upper|ppp_per_the_mean|ppp_per_the_lower|ppp_per_the_upper|oop_per_the_mean|oop_per_the_lower|oop_per_the_upper|dah_per_the_mean|dah_per_the_lower|dah_per_the_upper|the_per_gdp_mean|the_per_gdp_lower|the_per_gdp_upper|ghes_per_gdp_mean|ghes_per_gdp_lower|ghes_per_gdp_upper|ppp_per_gdp_mean|ppp_per_gdp_lower|ppp_per_gdp_upper|oop_per_gdp_mean|oop_per_gdp_lower|oop_per_gdp_upper|dah_per_gdp_mean|dah_per_gdp_lower|dah_per_gdp_upper|\n",
            "+-----------+-------------+----+-------+----+--------------+---------------+---------------+------------------+-------------------+-------------------+---------------+----------------+----------------+-------------------+--------------------+--------------------+--------------+---------------+---------------+------------------+-------------------+-------------------+--------------+---------------+---------------+------------------+-------------------+-------------------+--------------+------------------+----------------+-----------------+-----------------+--------------------+---------------------+---------------------+-----------------+------------------+------------------+---------------------+----------------------+----------------------+----------------+-----------------+-----------------+--------------------+---------------------+---------------------+----------------+-----------------+-----------------+--------------------+---------------------+---------------------+----------------+--------------------+-----------------+------------------+------------------+----------------+-----------------+-----------------+----------------+-----------------+-----------------+----------------+-----------------+-----------------+----------------+-----------------+-----------------+-----------------+------------------+------------------+----------------+-----------------+-----------------+----------------+-----------------+-----------------+----------------+-----------------+-----------------+\n",
            "|        160|  Afghanistan| AFG|Country|2000|        446201|         372565|         536362|           1851971|            1546341|            2226189|          10382|            8407|           12686|              43091|               34892|               52654|            25|              0|             44|               106|                  0|                182|        426131|         352623|         516002|           1768668|            1463571|            2141683|          9663|             40106|              23|               19|               28|                  95|                   79|                  114|                1|                 0|                 1|                    2|                     2|                     3|               0|                0|                0|                   0|                    0|                    0|              22|               18|               27|                  91|                   75|                  110|               0|                   2|            0.023|             0.018|             0.031|               0|                0|                0|           0.955|            0.944|            0.963|           0.022|            0.018|            0.026|           0.102|            0.084|            0.121|            0.002|             0.002|             0.003|               0|                0|                0|           0.097|            0.079|            0.117|           0.002|            0.002|            0.002|\n",
            "|        160|  Afghanistan| AFG|Country|2001|        447321|         381894|         524195|           1856620|            1585061|            2175686|          10191|            8281|           12450|              42298|               34369|               51674|            30|              0|             43|               126|                  0|                177|        421413|         354700|         498677|           1749090|            1472194|            2069773|         15686|             65106|              22|               19|               26|                  92|                   78|                  107|                1|                 0|                 1|                    2|                     2|                     3|               0|                0|                0|                   0|                    0|                    0|              21|               18|               25|                  86|                   73|                  102|               1|                   3|            0.023|             0.018|              0.03|               0|                0|                0|           0.942|             0.93|            0.951|           0.035|             0.03|            0.041|           0.105|            0.088|            0.122|            0.002|             0.002|             0.003|               0|                0|                0|           0.099|            0.083|            0.116|           0.004|            0.004|            0.004|\n",
            "|        160|  Afghanistan| AFG|Country|2002|        534474|         464153|         612575|           2218352|            1926481|            2542511|          13506|           10994|           16525|              56055|               45630|               68586|            45|              0|             65|               185|                  0|                270|        489696|         419200|         567274|           2032497|            1739903|            2354491|         31228|            129614|              25|               22|               28|                 103|                   90|                  118|                1|                 1|                 1|                    3|                     2|                     3|               0|                0|                0|                   0|                    0|                    0|              23|               19|               26|                  95|                   81|                  109|               1|                   6|            0.025|              0.02|             0.033|               0|                0|                0|           0.916|            0.902|            0.927|           0.059|            0.051|            0.067|           0.082|            0.071|            0.094|            0.002|             0.002|             0.003|               0|                0|                0|           0.075|            0.064|            0.087|           0.005|            0.005|            0.005|\n",
            "|        160|  Afghanistan| AFG|Country|2003|        682593|         601814|         770072|           2833123|            2497849|            3196208|          29302|           23856|           36109|             121617|               99016|              149871|            24|              0|             72|                99|                  0|                300|        606824|         524018|         693301|           2518643|            2174955|            2877567|         46443|            192764|              30|               27|               34|                 126|                  111|                  142|                1|                 1|                 2|                    5|                     4|                     7|               0|                0|                0|                   0|                    0|                    0|              27|               23|               31|                 112|                   97|                  128|               2|                   9|            0.043|             0.034|             0.054|               0|                0|                0|           0.889|            0.872|            0.903|           0.068|             0.06|            0.077|           0.095|            0.082|            0.107|            0.004|             0.003|             0.005|               0|                0|                0|           0.084|            0.072|            0.097|           0.006|            0.006|            0.007|\n",
            "|         43|      Albania| ALB|Country|2000|        549733|         513401|         587564|           1532102|            1430847|            1637538|         200778|          177155|          228589|             559567|              493730|              637077|            22|             15|             31|                60|                 41|                 86|        324109|         297748|         350560|            903291|             829822|             977010|         24824|             69185|             172|              161|              184|                 480|                  448|                  513|               63|                56|                72|                  175|                   155|                   200|               0|                0|                0|                   0|                    0|                    0|             102|               93|              110|                 283|                  260|                  306|               8|                  22|            0.365|             0.331|               0.4|               0|                0|                0|            0.59|            0.556|            0.623|           0.045|            0.042|            0.048|           0.076|            0.071|            0.081|            0.028|             0.024|             0.032|               0|                0|                0|           0.045|            0.041|            0.048|           0.003|            0.003|            0.003|\n",
            "+-----------+-------------+----+-------+----+--------------+---------------+---------------+------------------+-------------------+-------------------+---------------+----------------+----------------+-------------------+--------------------+--------------------+--------------+---------------+---------------+------------------+-------------------+-------------------+--------------+---------------+---------------+------------------+-------------------+-------------------+--------------+------------------+----------------+-----------------+-----------------+--------------------+---------------------+---------------------+-----------------+------------------+------------------+---------------------+----------------------+----------------------+----------------+-----------------+-----------------+--------------------+---------------------+---------------------+----------------+-----------------+-----------------+--------------------+---------------------+---------------------+----------------+--------------------+-----------------+------------------+------------------+----------------+-----------------+-----------------+----------------+-----------------+-----------------+----------------+-----------------+-----------------+----------------+-----------------+-----------------+-----------------+------------------+------------------+----------------+-----------------+-----------------+----------------+-----------------+-----------------+----------------+-----------------+-----------------+\n",
            "only showing top 5 rows\n",
            "\n"
          ]
        }
      ]
    },
    {
      "cell_type": "markdown",
      "source": [
        "Between"
      ],
      "metadata": {
        "id": "ADjQ-k_xOaf6"
      }
    },
    {
      "cell_type": "code",
      "source": [
        "#dane z zakresu\n",
        "data.filter(data.the_total_mean.between(1000000, 9000000)).show()"
      ],
      "metadata": {
        "colab": {
          "base_uri": "https://localhost:8080/"
        },
        "id": "mZbfD5S0OdEk",
        "outputId": "e5443f4d-efdb-4f89-93a4-67d65e6936e6"
      },
      "execution_count": 116,
      "outputs": [
        {
          "output_type": "stream",
          "name": "stdout",
          "text": [
            "+-----------+-------------+----+-------+----+--------------+---------------+---------------+------------------+-------------------+-------------------+---------------+----------------+----------------+-------------------+--------------------+--------------------+--------------+---------------+---------------+------------------+-------------------+-------------------+--------------+---------------+---------------+------------------+-------------------+-------------------+--------------+------------------+----------------+-----------------+-----------------+--------------------+---------------------+---------------------+-----------------+------------------+------------------+---------------------+----------------------+----------------------+----------------+-----------------+-----------------+--------------------+---------------------+---------------------+----------------+-----------------+-----------------+--------------------+---------------------+---------------------+----------------+--------------------+-----------------+------------------+------------------+----------------+-----------------+-----------------+----------------+-----------------+-----------------+----------------+-----------------+-----------------+----------------+-----------------+-----------------+-----------------+------------------+------------------+----------------+-----------------+-----------------+----------------+-----------------+-----------------+----------------+-----------------+-----------------+\n",
            "|location_id|location_name|iso3|  level|year|the_total_mean|the_total_lower|the_total_upper|the_total_ppp_mean|the_total_ppp_lower|the_total_ppp_upper|ghes_total_mean|ghes_total_lower|ghes_total_upper|ghes_total_ppp_mean|ghes_total_ppp_lower|ghes_total_ppp_upper|ppp_total_mean|ppp_total_lower|ppp_total_upper|ppp_total_ppp_mean|ppp_total_ppp_lower|ppp_total_ppp_upper|oop_total_mean|oop_total_lower|oop_total_upper|oop_total_ppp_mean|oop_total_ppp_lower|oop_total_ppp_upper|dah_total_mean|dah_total_ppp_mean|the_per_cap_mean|the_per_cap_lower|the_per_cap_upper|the_per_cap_ppp_mean|the_per_cap_ppp_lower|the_per_cap_ppp_upper|ghes_per_cap_mean|ghes_per_cap_lower|ghes_per_cap_upper|ghes_per_cap_ppp_mean|ghes_per_cap_ppp_lower|ghes_per_cap_ppp_upper|ppp_per_cap_mean|ppp_per_cap_lower|ppp_per_cap_upper|ppp_per_cap_ppp_mean|ppp_per_cap_ppp_lower|ppp_per_cap_ppp_upper|oop_per_cap_mean|oop_per_cap_lower|oop_per_cap_upper|oop_per_cap_ppp_mean|oop_per_cap_ppp_lower|oop_per_cap_ppp_upper|dah_per_cap_mean|dah_per_cap_ppp_mean|ghes_per_the_mean|ghes_per_the_lower|ghes_per_the_upper|ppp_per_the_mean|ppp_per_the_lower|ppp_per_the_upper|oop_per_the_mean|oop_per_the_lower|oop_per_the_upper|dah_per_the_mean|dah_per_the_lower|dah_per_the_upper|the_per_gdp_mean|the_per_gdp_lower|the_per_gdp_upper|ghes_per_gdp_mean|ghes_per_gdp_lower|ghes_per_gdp_upper|ppp_per_gdp_mean|ppp_per_gdp_lower|ppp_per_gdp_upper|oop_per_gdp_mean|oop_per_gdp_lower|oop_per_gdp_upper|dah_per_gdp_mean|dah_per_gdp_lower|dah_per_gdp_upper|\n",
            "+-----------+-------------+----+-------+----+--------------+---------------+---------------+------------------+-------------------+-------------------+---------------+----------------+----------------+-------------------+--------------------+--------------------+--------------+---------------+---------------+------------------+-------------------+-------------------+--------------+---------------+---------------+------------------+-------------------+-------------------+--------------+------------------+----------------+-----------------+-----------------+--------------------+---------------------+---------------------+-----------------+------------------+------------------+---------------------+----------------------+----------------------+----------------+-----------------+-----------------+--------------------+---------------------+---------------------+----------------+-----------------+-----------------+--------------------+---------------------+---------------------+----------------+--------------------+-----------------+------------------+------------------+----------------+-----------------+-----------------+----------------+-----------------+-----------------+----------------+-----------------+-----------------+----------------+-----------------+-----------------+-----------------+------------------+------------------+----------------+-----------------+-----------------+----------------+-----------------+-----------------+----------------+-----------------+-----------------+\n",
            "|        160|  Afghanistan| AFG|Country|2007|       1040372|         956086|        1141413|           4318097|            3968264|            4737470|          56613|           45313|           70506|             234974|              188072|              292635|            41|              0|            100|               170|                  0|                415|        784067|         700601|         880017|           3254296|            2907866|            3652539|        199651|            828657|              41|               37|               44|                 168|                  155|                  184|                2|                 2|                 3|                    9|                     7|                    11|               0|                0|                0|                   0|                    0|                    0|              31|               27|               34|                 127|                  113|                  142|               8|                  32|            0.054|             0.044|             0.067|               0|                0|                0|           0.753|             0.73|            0.776|           0.192|            0.175|            0.209|           0.104|            0.091|            0.119|            0.006|             0.004|             0.007|               0|                0|                0|           0.079|            0.067|            0.092|            0.02|            0.018|            0.021|\n",
            "|        160|  Afghanistan| AFG|Country|2008|       1066858|         982415|        1161963|           4428026|            4077542|            4822762|          58164|           46184|           71985|             241412|              191690|              298775|            50|              0|            103|               208|                  0|                429|        806163|         725220|         898419|           3346004|            3010050|            3728915|        202481|            840402|              40|               37|               44|                 166|                  153|                  181|                2|                 2|                 3|                    9|                     7|                    11|               0|                0|                0|                   0|                    0|                    0|              30|               27|               34|                 126|                  113|                  140|               8|                  32|            0.055|             0.044|             0.067|               0|                0|                0|           0.755|            0.734|            0.776|            0.19|            0.174|            0.206|           0.103|            0.093|            0.115|            0.006|             0.004|             0.007|               0|                0|                0|           0.078|            0.069|            0.089|            0.02|            0.018|            0.021|\n",
            "|        160|  Afghanistan| AFG|Country|2009|       1236730|        1149054|        1337448|           5133088|            4769186|            5551121|          64523|           51524|           79114|             267803|              213851|              328365|            54|              0|            122|               226|                  0|                508|        872071|         784040|         970584|           3619560|            3254182|            4028439|        300082|           1245499|              45|               42|               49|                 186|                  173|                  202|                2|                 2|                 3|                   10|                     8|                    12|               0|                0|                0|                   0|                    0|                    0|              32|               28|               35|                 131|                  118|                  146|              11|                  45|            0.052|             0.042|             0.064|               0|                0|                0|           0.705|            0.679|            0.727|           0.243|            0.224|            0.261|           0.101|            0.094|            0.109|            0.005|             0.004|             0.006|               0|                0|                0|           0.071|            0.064|            0.079|           0.025|            0.024|            0.025|\n",
            "|        160|  Afghanistan| AFG|Country|2010|       1262196|        1166456|        1364153|           5238783|            4841414|            5661960|          65282|           52686|           80074|             270956|              218674|              332348|            65|              0|            135|               270|                  0|                562|        905046|         807082|        1006229|           3756424|            3349819|            4176386|        291802|           1211133|              44|               41|               48|                 183|                  169|                  198|                2|                 2|                 3|                    9|                     8|                    12|               0|                0|                0|                   0|                    0|                    0|              32|               28|               35|                 131|                  117|                  146|              10|                  42|            0.052|             0.042|             0.064|               0|                0|                0|           0.717|            0.692|            0.738|           0.232|            0.214|             0.25|           0.093|            0.084|            0.104|            0.005|             0.004|             0.006|               0|                0|                0|           0.067|            0.059|            0.076|           0.022|             0.02|            0.023|\n",
            "|        160|  Afghanistan| AFG|Country|2011|       1373092|        1273961|        1482720|           5699060|            5287617|            6154077|          67603|           54439|           82866|             280589|              225952|              343937|            71|              0|            142|               295|                  0|                591|        943247|         846554|        1049015|           3914978|            3513651|            4353968|        362170|           1503198|              46|               43|               50|                 192|                  178|                  207|                2|                 2|                 3|                    9|                     8|                    12|               0|                0|                0|                   0|                    0|                    0|              32|               28|               35|                 132|                  118|                  147|              12|                  51|            0.049|              0.04|              0.06|               0|                0|                0|           0.687|            0.662|             0.71|           0.264|            0.244|            0.284|           0.097|            0.089|            0.105|            0.005|             0.004|             0.006|               0|                0|                0|           0.066|            0.059|            0.074|           0.025|            0.025|            0.026|\n",
            "|        160|  Afghanistan| AFG|Country|2012|       1410474|        1299776|        1525283|           5854216|            5394762|            6330734|          74894|           60780|           91457|             310850|              252268|              379594|            72|              0|            160|               297|                  0|                664|       1037194|         933396|        1147580|           4304908|            3874091|            4763068|        298314|           1238162|              46|               42|               49|                 190|                  175|                  205|                2|                 2|                 3|                   10|                     8|                    12|               0|                0|                0|                   0|                    0|                    0|              34|               30|               37|                 140|                  126|                  155|              10|                  40|            0.053|             0.043|             0.065|               0|                0|                0|           0.735|            0.713|            0.756|           0.212|            0.196|             0.23|           0.088|             0.08|            0.098|            0.005|             0.004|             0.006|               0|                0|                0|           0.065|            0.057|            0.073|           0.019|            0.018|             0.02|\n",
            "|        160|  Afghanistan| AFG|Country|2013|       1554494|        1435933|        1674751|           6451977|            5959885|            6951108|          80802|           65863|           99713|             335373|              273368|              413863|            77|              0|            170|               320|                  0|                705|       1145881|        1033726|        1262524|           4756015|            4290513|            5240146|        327734|           1360269|              49|               45|               52|                 202|                  187|                  218|                3|                 2|                 3|                   11|                     9|                    13|               0|                0|                0|                   0|                    0|                    0|              36|               32|               40|                 149|                  134|                  164|              10|                  43|            0.052|             0.042|             0.064|               0|                0|                0|           0.737|            0.715|            0.758|           0.211|            0.196|            0.228|           0.092|            0.083|            0.101|            0.005|             0.004|             0.006|               0|                0|                0|           0.068|             0.06|            0.076|           0.019|            0.018|             0.02|\n",
            "|        160|  Afghanistan| AFG|Country|2014|       1664981|        1541417|        1800126|           6910557|            6397700|            7471482|          87237|           71013|          107392|             362082|              294743|              445735|            74|              0|            173|               306|                  0|                719|       1283074|        1164073|        1420629|           5325439|            4831523|            5896365|        294596|           1222730|              51|               47|               55|                 211|                  195|                  228|                3|                 2|                 3|                   11|                     9|                    14|               0|                0|                0|                   0|                    0|                    0|              39|               36|               43|                 163|                  148|                  180|               9|                  37|            0.052|             0.043|             0.064|               0|                0|                0|            0.77|            0.751|            0.789|           0.177|            0.164|            0.191|           0.096|            0.087|            0.106|            0.005|             0.004|             0.006|               0|                0|                0|           0.074|            0.066|            0.083|           0.017|            0.016|            0.018|\n",
            "|        160|  Afghanistan| AFG|Country|2015|       1822293|        1693212|        1960564|           7563486|            7027729|            8137381|          92624|           75517|          113213|             384440|              313436|              469896|            82|              0|            173|               340|                  0|                718|       1434292|        1306576|        1578970|           5953073|            5422985|            6553563|        295296|           1225634|              54|               50|               58|                 225|                  209|                  242|                3|                 2|                 3|                   11|                     9|                    14|               0|                0|                0|                   0|                    0|                    0|              43|               39|               47|                 177|                  161|                  195|               9|                  36|            0.051|             0.041|             0.062|               0|                0|                0|           0.787|            0.769|            0.804|           0.162|            0.151|            0.174|           0.106|            0.095|            0.118|            0.005|             0.004|             0.007|               0|                0|                0|           0.083|            0.074|            0.094|           0.017|            0.016|            0.018|\n",
            "|        160|  Afghanistan| AFG|Country|2016|       1882415|        1747511|        2028013|           7813023|            7253099|            8417331|         102155|           83607|          124073|             423999|              347012|              514970|            78|              0|            178|               326|                  0|                737|       1610050|        1477602|        1754298|           6682564|            6132832|            7281269|        170131|            706134|              54|               50|               58|                 225|                  209|                  242|                3|                 2|                 4|                   12|                    10|                    15|               0|                0|                0|                   0|                    0|                    0|              46|               43|               51|                 193|                  177|                  210|               5|                  20|            0.054|             0.044|             0.066|               0|                0|                0|           0.855|            0.841|            0.869|           0.091|            0.084|            0.097|           0.106|            0.096|             0.12|            0.006|             0.005|             0.007|               0|                0|                0|           0.091|            0.081|            0.103|            0.01|            0.009|             0.01|\n",
            "|        160|  Afghanistan| AFG|Country|2017|       1992736|        1857448|        2142606|           8270915|            7709396|            8892955|         107508|           87534|          130678|             446215|              363311|              542384|            82|              0|            184|               342|                  0|                763|       1715584|        1582352|        1857963|           7120586|            6567601|            7711533|        169562|            703771|              55|               52|               60|                 230|                  215|                  248|                3|                 2|                 4|                   12|                    10|                    15|               0|                0|                0|                   0|                    0|                    0|              48|               44|               52|                 198|                  183|                  215|               5|                  20|            0.054|             0.044|             0.065|               0|                0|                0|           0.861|            0.847|            0.873|           0.085|            0.079|            0.091|           0.109|            0.097|            0.122|            0.006|             0.005|             0.007|               0|                0|                0|           0.094|            0.083|            0.106|           0.009|            0.009|             0.01|\n",
            "|        160|  Afghanistan| AFG|Country|2018|       2037487|        1874376|        2207902|           8456655|            7779658|            9163967|         106277|           86330|          128822|             441104|              358317|              534679|            97|              0|            188|               401|                  0|                779|       1680810|        1514454|        1848264|           6976254|            6285790|            7671278|        250304|           1038896|              55|               51|               60|                 228|                  210|                  247|                3|                 2|                 3|                   12|                    10|                    14|               0|                0|                0|                   0|                    0|                    0|              45|               41|               50|                 188|                  170|                  207|               7|                  28|            0.052|             0.042|             0.064|               0|                0|                0|           0.825|            0.807|            0.841|           0.123|            0.113|            0.134|           0.109|            0.097|            0.122|            0.006|             0.005|             0.007|               0|                0|                0|            0.09|            0.078|            0.102|           0.013|            0.012|            0.015|\n",
            "|        139|      Algeria| DZA|Country|1995|       2623765|        2299202|        2963485|           8696294|            7620552|            9822275|        1870428|         1590992|         2190681|            6199411|             5273238|             7260867|         57677|          39318|          80587|            191167|             130318|             267101|        695600|         554702|         848769|           2305519|            1838523|            2813188|            59|               197|              92|               81|              104|                 306|                  268|                  346|               66|                56|                77|                  218|                   186|                   255|               2|                1|                3|                   7|                    5|                    9|              24|               20|               30|                  81|                   65|                   99|               0|                   0|            0.713|             0.664|             0.763|           0.022|            0.015|            0.031|           0.265|            0.215|            0.315|               0|                0|                0|           0.037|            0.032|            0.042|            0.026|             0.022|              0.03|           0.001|            0.001|            0.001|            0.01|            0.008|            0.012|               0|                0|                0|\n",
            "|        139|      Algeria| DZA|Country|1996|       2635043|        2339491|        2970076|           8733676|            7754089|            9844119|        1886213|         1631909|         2175582|            6251729|             5408856|             7210822|         58726|          41111|          82575|            194644|             136258|             273688|        689965|         553364|         832074|           2286845|            1834090|            2757854|           138|               458|              91|               81|              102|                 301|                  267|                  340|               65|                56|                75|                  216|                   187|                   249|               2|                1|                3|                   7|                    5|                    9|              24|               19|               29|                  79|                   63|                   95|               0|                   0|            0.716|             0.667|             0.762|           0.022|            0.015|            0.032|           0.262|            0.215|            0.312|               0|                0|                0|           0.035|            0.031|             0.04|            0.025|             0.022|             0.029|           0.001|            0.001|            0.001|           0.009|            0.007|            0.011|               0|                0|                0|\n",
            "|        139|      Algeria| DZA|Country|1997|       2743760|        2460967|        3073676|           9094012|            8156712|           10187496|        1954422|         1702127|         2226970|            6477803|             5641588|             7381144|         61062|          42644|          85114|            202386|             141341|             282106|        727690|         592157|         871828|           2411881|            1962665|            2889617|           586|              1942|              93|               83|              104|                 308|                  276|                  345|               66|                58|                75|                  219|                   191|                   250|               2|                1|                3|                   7|                    5|                   10|              25|               20|               30|                  82|                   66|                   98|               0|                   0|            0.712|             0.666|             0.756|           0.022|            0.015|            0.032|           0.265|            0.221|            0.311|               0|                0|                0|           0.036|            0.032|            0.041|            0.026|             0.022|              0.03|           0.001|            0.001|            0.001|            0.01|            0.008|            0.012|               0|                0|                0|\n",
            "|        139|      Algeria| DZA|Country|1998|       2839588|        2556079|        3162763|           9411628|            8471954|           10482769|        2023466|         1766457|         2288553|            6706643|             5854805|             7585258|         62234|          43199|          87510|            206271|             143179|             290047|        752422|         623752|         897726|           2493854|            2067384|            2975455|          1466|              4860|              94|               85|              105|                 313|                  282|                  349|               67|                59|                76|                  223|                   195|                   252|               2|                1|                3|                   7|                    5|                   10|              25|               21|               30|                  83|                   69|                   99|               0|                   0|            0.712|             0.669|             0.753|           0.022|            0.015|            0.031|           0.265|            0.224|            0.308|           0.001|                0|            0.001|           0.036|            0.032|             0.04|            0.025|             0.022|             0.029|           0.001|            0.001|            0.001|           0.009|            0.008|            0.011|               0|                0|                0|\n",
            "|        139|      Algeria| DZA|Country|1999|       2930760|        2636841|        3244267|           9713812|            8739634|           10752907|        2106985|         1838709|         2383056|            6983463|             6094281|             7898483|         64111|          44332|          88348|            212493|             146936|             292825|        757650|         635624|         890141|           2511181|            2106734|            2950314|          2014|              6674|              96|               86|              106|                 318|                  286|                  352|               69|                60|                78|                  229|                   199|                   258|               2|                1|                3|                   7|                    5|                   10|              25|               21|               29|                  82|                   69|                   97|               0|                   0|            0.719|             0.678|             0.756|           0.022|            0.015|             0.03|           0.259|            0.221|              0.3|           0.001|            0.001|            0.001|           0.036|            0.032|             0.04|            0.026|             0.022|             0.029|           0.001|            0.001|            0.001|           0.009|            0.008|            0.011|               0|                0|                0|\n",
            "|        139|      Algeria| DZA|Country|2000|       2974090|        2682085|        3293950|           9857426|            8889592|           10917580|        2169069|         1893627|         2476199|            7189236|             6276300|             8207196|         65677|          44907|          90074|            217683|             148842|             298544|        738032|         641214|         839929|           2446157|            2125262|            2783888|          1312|              4349|              96|               86|              106|                 317|                  286|                  352|               70|                61|                80|                  232|                   202|                   264|               2|                1|                3|                   7|                    5|                   10|              24|               21|               27|                  79|                   68|                   90|               0|                   0|            0.729|             0.689|             0.762|           0.022|            0.015|            0.031|           0.248|            0.217|            0.286|               0|                0|                0|           0.035|            0.031|            0.039|            0.025|             0.022|             0.029|           0.001|            0.001|            0.001|           0.009|            0.008|             0.01|               0|                0|                0|\n",
            "|        139|      Algeria| DZA|Country|2001|       3204780|        2879433|        3548736|          10622032|            9543689|           11762050|        2391849|         2081996|         2724658|            7927625|             6900638|             9030699|         70254|          48281|          98173|            232851|             160025|             325388|        740505|         669216|         816221|           2454356|            2218072|            2705309|          2172|              7200|             102|               91|              113|                 337|                  303|                  373|               76|                66|                86|                  251|                   219|                   286|               2|                2|                3|                   7|                    5|                   10|              23|               21|               26|                  78|                   70|                   86|               0|                   0|            0.746|             0.713|             0.776|           0.022|            0.015|            0.031|           0.232|            0.204|            0.263|           0.001|            0.001|            0.001|           0.036|            0.033|             0.04|            0.027|             0.024|             0.031|           0.001|            0.001|            0.001|           0.008|            0.008|            0.009|               0|                0|                0|\n",
            "|        139|      Algeria| DZA|Country|2002|       3465709|        3139612|        3802827|          11486864|           10406037|           12604218|        2619742|         2296948|         2954669|            8682962|             7613083|             9793054|         75907|          52534|         106174|            251588|             174122|             351905|        768437|         715055|         822671|           2546934|            2370002|            2726689|          1623|              5380|             108|               98|              119|                 359|                  325|                  394|               82|                72|                92|                  271|                   238|                   306|               2|                2|                3|                   8|                    5|                   11|              24|               22|               26|                  80|                   74|                   85|               0|                   0|            0.755|             0.726|             0.781|           0.022|            0.015|            0.031|           0.222|            0.198|             0.25|               0|                0|            0.001|           0.037|            0.034|            0.041|            0.028|             0.025|             0.032|           0.001|            0.001|            0.001|           0.008|            0.008|            0.009|               0|                0|                0|\n",
            "+-----------+-------------+----+-------+----+--------------+---------------+---------------+------------------+-------------------+-------------------+---------------+----------------+----------------+-------------------+--------------------+--------------------+--------------+---------------+---------------+------------------+-------------------+-------------------+--------------+---------------+---------------+------------------+-------------------+-------------------+--------------+------------------+----------------+-----------------+-----------------+--------------------+---------------------+---------------------+-----------------+------------------+------------------+---------------------+----------------------+----------------------+----------------+-----------------+-----------------+--------------------+---------------------+---------------------+----------------+-----------------+-----------------+--------------------+---------------------+---------------------+----------------+--------------------+-----------------+------------------+------------------+----------------+-----------------+-----------------+----------------+-----------------+-----------------+----------------+-----------------+-----------------+----------------+-----------------+-----------------+-----------------+------------------+------------------+----------------+-----------------+-----------------+----------------+-----------------+-----------------+----------------+-----------------+-----------------+\n",
            "only showing top 20 rows\n",
            "\n"
          ]
        }
      ]
    },
    {
      "cell_type": "markdown",
      "source": [
        "When"
      ],
      "metadata": {
        "id": "MjmNeZv8O4fG"
      }
    },
    {
      "cell_type": "code",
      "source": [
        "data.select('location_name', 'iso3',\n",
        "      f.when(data.the_total_mean >= '5000000', 1).otherwise(0)\n",
        ").show(5)\n",
        "#zwraca 1 gdy prawda, inaczj 0"
      ],
      "metadata": {
        "colab": {
          "base_uri": "https://localhost:8080/"
        },
        "id": "Lb_GHFFeO6HG",
        "outputId": "da461d4d-ed60-4039-84f6-8e333df119db"
      },
      "execution_count": 117,
      "outputs": [
        {
          "output_type": "stream",
          "name": "stdout",
          "text": [
            "+-------------+----+-------------------------------------------------------+\n",
            "|location_name|iso3|CASE WHEN (the_total_mean >= 5000000) THEN 1 ELSE 0 END|\n",
            "+-------------+----+-------------------------------------------------------+\n",
            "|  Afghanistan| AFG|                                                      1|\n",
            "|  Afghanistan| AFG|                                                      1|\n",
            "|  Afghanistan| AFG|                                                      1|\n",
            "|  Afghanistan| AFG|                                                      0|\n",
            "|  Afghanistan| AFG|                                                      0|\n",
            "+-------------+----+-------------------------------------------------------+\n",
            "only showing top 5 rows\n",
            "\n"
          ]
        }
      ]
    },
    {
      "cell_type": "markdown",
      "source": [
        "Like"
      ],
      "metadata": {
        "id": "ZAxJk6noPYxx"
      }
    },
    {
      "cell_type": "code",
      "source": [
        "data.select(\n",
        "'the_total_mean',\n",
        "data.the_total_mean.rlike('^[9,7]').alias('the_total_mean zaczyna sie na 9 lub 7')\n",
        ").distinct().show()"
      ],
      "metadata": {
        "colab": {
          "base_uri": "https://localhost:8080/"
        },
        "id": "5zECztcWPbO6",
        "outputId": "e0f3337d-844f-4826-f386-0f320f98a8e2"
      },
      "execution_count": 118,
      "outputs": [
        {
          "output_type": "stream",
          "name": "stdout",
          "text": [
            "+--------------+-------------------------------------+\n",
            "|the_total_mean|the_total_mean zaczyna sie na 9 lub 7|\n",
            "+--------------+-------------------------------------+\n",
            "|         69838|                                false|\n",
            "|      58163376|                                false|\n",
            "|       2420975|                                false|\n",
            "|       1142944|                                false|\n",
            "|     162405032|                                false|\n",
            "|         44340|                                false|\n",
            "|         68134|                                false|\n",
            "|      23070931|                                false|\n",
            "|         99668|                                 true|\n",
            "|         15477|                                false|\n",
            "|       3587803|                                false|\n",
            "|        534311|                                false|\n",
            "|        883289|                                false|\n",
            "|         28067|                                false|\n",
            "|       4536024|                                false|\n",
            "|        341486|                                false|\n",
            "|      76894410|                                 true|\n",
            "|        560673|                                false|\n",
            "|       9587995|                                 true|\n",
            "|         72056|                                 true|\n",
            "+--------------+-------------------------------------+\n",
            "only showing top 20 rows\n",
            "\n"
          ]
        }
      ]
    },
    {
      "cell_type": "markdown",
      "source": [
        "GroupBy"
      ],
      "metadata": {
        "id": "5o-DjGX0PwL_"
      }
    },
    {
      "cell_type": "code",
      "source": [
        "data.groupBy('ISO3').count().show()\n",
        "#grupowanie, po czym wywołanie jakiejś funkcji, tutaj count (może też być mean etc)"
      ],
      "metadata": {
        "colab": {
          "base_uri": "https://localhost:8080/"
        },
        "id": "O1Z1ef2KPyFv",
        "outputId": "55070ed2-abbd-476e-d779-e1806e9ca219"
      },
      "execution_count": 119,
      "outputs": [
        {
          "output_type": "stream",
          "name": "stdout",
          "text": [
            "+----+-----+\n",
            "|ISO3|count|\n",
            "+----+-----+\n",
            "| NIU|   24|\n",
            "| HTI|   24|\n",
            "| PSE|   24|\n",
            "| BRB|   24|\n",
            "| LVA|   24|\n",
            "| POL|   24|\n",
            "| JAM|   24|\n",
            "| ZMB|   24|\n",
            "| BRA|   24|\n",
            "| ARM|   24|\n",
            "| MOZ|   24|\n",
            "| CUB|   24|\n",
            "| JOR|   24|\n",
            "| FRA|   24|\n",
            "| SOM|   24|\n",
            "| BRN|   24|\n",
            "| COD|   24|\n",
            "| FSM|   24|\n",
            "| BOL|   24|\n",
            "| URY|   24|\n",
            "+----+-----+\n",
            "only showing top 20 rows\n",
            "\n"
          ]
        }
      ]
    },
    {
      "cell_type": "markdown",
      "source": [
        "Agregacja"
      ],
      "metadata": {
        "id": "V7rVuxCyQZrM"
      }
    },
    {
      "cell_type": "code",
      "source": [
        "from pyspark.sql import functions as f\n",
        "\n",
        "data.groupBy(\"location_name\").agg(f.mean(\"the_total_mean\").alias(\"total_mean_mean\")).show() #średnia niezależnie od roku\n",
        "#grupowanie i obliczanie wartości dla grup"
      ],
      "metadata": {
        "id": "bjxZHZ-iQa0Z",
        "colab": {
          "base_uri": "https://localhost:8080/"
        },
        "outputId": "4f160e5c-1bce-45a7-c882-957276756a4b"
      },
      "execution_count": 120,
      "outputs": [
        {
          "output_type": "stream",
          "name": "stdout",
          "text": [
            "+--------------------+--------------------+\n",
            "|       location_name|     total_mean_mean|\n",
            "+--------------------+--------------------+\n",
            "|          South Asia|6.1906327458333336E7|\n",
            "|                Chad|   329933.8333333333|\n",
            "|Micronesia (Feder...|           21818.375|\n",
            "|            Paraguay|         1295237.125|\n",
            "|               Yemen|  1431750.2083333333|\n",
            "|Southeast Asia, E...| 3.878079027916667E8|\n",
            "|             Senegal|            631454.5|\n",
            "|          Cabo Verde|   67143.70833333333|\n",
            "|              Sweden|3.8863774666666664E7|\n",
            "|             Tokelau|  1234.6666666666667|\n",
            "|            Kiribati|  21901.166666666668|\n",
            "|   Republic of Korea|       5.992538875E7|\n",
            "|              Guyana|  144851.70833333334|\n",
            "|             Eritrea|   89435.16666666667|\n",
            "|         Philippines|   8087432.958333333|\n",
            "|            Djibouti|  58924.541666666664|\n",
            "|               Tonga|  20671.958333333332|\n",
            "|            Malaysia|   6636143.958333333|\n",
            "|           Singapore|   7900884.458333333|\n",
            "|         High-income| 4.799371008666667E9|\n",
            "+--------------------+--------------------+\n",
            "only showing top 20 rows\n",
            "\n"
          ]
        }
      ]
    },
    {
      "cell_type": "markdown",
      "source": [
        "Wizualizacja danych"
      ],
      "metadata": {
        "id": "CDNlYl6lb07S"
      }
    },
    {
      "cell_type": "code",
      "source": [
        "from pyspark.sql.functions import col, min, max\n",
        "\n",
        "df = data.select('location_name', 'the_total_mean')\\\n",
        "      .groupBy(\"location_name\")\\\n",
        "      .agg(min(\"the_total_mean\").alias(\"the_total_mean_min\"), \n",
        "           max(\"the_total_mean\").alias(\"the_total_mean_max\"))\\\n",
        "      .toPandas()\n",
        "df.head(10)"
      ],
      "metadata": {
        "colab": {
          "base_uri": "https://localhost:8080/",
          "height": 363
        },
        "id": "QmodhJx3b1_1",
        "outputId": "e5d01d0e-7e68-48bd-fa93-b612cb25f91e"
      },
      "execution_count": 121,
      "outputs": [
        {
          "output_type": "execute_result",
          "data": {
            "text/plain": [
              "                            location_name the_total_mean_min  \\\n",
              "0                              South Asia          103194218   \n",
              "1                                    Chad             201576   \n",
              "2        Micronesia (Federated States of)              10086   \n",
              "3                                Paraguay            1008338   \n",
              "4  Southeast Asia, East Asia, and Oceania          118847294   \n",
              "5                                   Yemen            1015751   \n",
              "6                                 Senegal             388101   \n",
              "7                              Cabo Verde              32597   \n",
              "8                                  Sweden           22629968   \n",
              "9                                 Tokelau               1060   \n",
              "\n",
              "  the_total_mean_max  \n",
              "0           96358386  \n",
              "1             467239  \n",
              "2               9618  \n",
              "3             967137  \n",
              "4          876778676  \n",
              "5             921256  \n",
              "6             972045  \n",
              "7              97929  \n",
              "8           59684355  \n",
              "9                978  "
            ],
            "text/html": [
              "\n",
              "  <div id=\"df-59abe00d-1fe0-47ea-8378-1cdbc1b08a79\">\n",
              "    <div class=\"colab-df-container\">\n",
              "      <div>\n",
              "<style scoped>\n",
              "    .dataframe tbody tr th:only-of-type {\n",
              "        vertical-align: middle;\n",
              "    }\n",
              "\n",
              "    .dataframe tbody tr th {\n",
              "        vertical-align: top;\n",
              "    }\n",
              "\n",
              "    .dataframe thead th {\n",
              "        text-align: right;\n",
              "    }\n",
              "</style>\n",
              "<table border=\"1\" class=\"dataframe\">\n",
              "  <thead>\n",
              "    <tr style=\"text-align: right;\">\n",
              "      <th></th>\n",
              "      <th>location_name</th>\n",
              "      <th>the_total_mean_min</th>\n",
              "      <th>the_total_mean_max</th>\n",
              "    </tr>\n",
              "  </thead>\n",
              "  <tbody>\n",
              "    <tr>\n",
              "      <th>0</th>\n",
              "      <td>South Asia</td>\n",
              "      <td>103194218</td>\n",
              "      <td>96358386</td>\n",
              "    </tr>\n",
              "    <tr>\n",
              "      <th>1</th>\n",
              "      <td>Chad</td>\n",
              "      <td>201576</td>\n",
              "      <td>467239</td>\n",
              "    </tr>\n",
              "    <tr>\n",
              "      <th>2</th>\n",
              "      <td>Micronesia (Federated States of)</td>\n",
              "      <td>10086</td>\n",
              "      <td>9618</td>\n",
              "    </tr>\n",
              "    <tr>\n",
              "      <th>3</th>\n",
              "      <td>Paraguay</td>\n",
              "      <td>1008338</td>\n",
              "      <td>967137</td>\n",
              "    </tr>\n",
              "    <tr>\n",
              "      <th>4</th>\n",
              "      <td>Southeast Asia, East Asia, and Oceania</td>\n",
              "      <td>118847294</td>\n",
              "      <td>876778676</td>\n",
              "    </tr>\n",
              "    <tr>\n",
              "      <th>5</th>\n",
              "      <td>Yemen</td>\n",
              "      <td>1015751</td>\n",
              "      <td>921256</td>\n",
              "    </tr>\n",
              "    <tr>\n",
              "      <th>6</th>\n",
              "      <td>Senegal</td>\n",
              "      <td>388101</td>\n",
              "      <td>972045</td>\n",
              "    </tr>\n",
              "    <tr>\n",
              "      <th>7</th>\n",
              "      <td>Cabo Verde</td>\n",
              "      <td>32597</td>\n",
              "      <td>97929</td>\n",
              "    </tr>\n",
              "    <tr>\n",
              "      <th>8</th>\n",
              "      <td>Sweden</td>\n",
              "      <td>22629968</td>\n",
              "      <td>59684355</td>\n",
              "    </tr>\n",
              "    <tr>\n",
              "      <th>9</th>\n",
              "      <td>Tokelau</td>\n",
              "      <td>1060</td>\n",
              "      <td>978</td>\n",
              "    </tr>\n",
              "  </tbody>\n",
              "</table>\n",
              "</div>\n",
              "      <button class=\"colab-df-convert\" onclick=\"convertToInteractive('df-59abe00d-1fe0-47ea-8378-1cdbc1b08a79')\"\n",
              "              title=\"Convert this dataframe to an interactive table.\"\n",
              "              style=\"display:none;\">\n",
              "        \n",
              "  <svg xmlns=\"http://www.w3.org/2000/svg\" height=\"24px\"viewBox=\"0 0 24 24\"\n",
              "       width=\"24px\">\n",
              "    <path d=\"M0 0h24v24H0V0z\" fill=\"none\"/>\n",
              "    <path d=\"M18.56 5.44l.94 2.06.94-2.06 2.06-.94-2.06-.94-.94-2.06-.94 2.06-2.06.94zm-11 1L8.5 8.5l.94-2.06 2.06-.94-2.06-.94L8.5 2.5l-.94 2.06-2.06.94zm10 10l.94 2.06.94-2.06 2.06-.94-2.06-.94-.94-2.06-.94 2.06-2.06.94z\"/><path d=\"M17.41 7.96l-1.37-1.37c-.4-.4-.92-.59-1.43-.59-.52 0-1.04.2-1.43.59L10.3 9.45l-7.72 7.72c-.78.78-.78 2.05 0 2.83L4 21.41c.39.39.9.59 1.41.59.51 0 1.02-.2 1.41-.59l7.78-7.78 2.81-2.81c.8-.78.8-2.07 0-2.86zM5.41 20L4 18.59l7.72-7.72 1.47 1.35L5.41 20z\"/>\n",
              "  </svg>\n",
              "      </button>\n",
              "      \n",
              "  <style>\n",
              "    .colab-df-container {\n",
              "      display:flex;\n",
              "      flex-wrap:wrap;\n",
              "      gap: 12px;\n",
              "    }\n",
              "\n",
              "    .colab-df-convert {\n",
              "      background-color: #E8F0FE;\n",
              "      border: none;\n",
              "      border-radius: 50%;\n",
              "      cursor: pointer;\n",
              "      display: none;\n",
              "      fill: #1967D2;\n",
              "      height: 32px;\n",
              "      padding: 0 0 0 0;\n",
              "      width: 32px;\n",
              "    }\n",
              "\n",
              "    .colab-df-convert:hover {\n",
              "      background-color: #E2EBFA;\n",
              "      box-shadow: 0px 1px 2px rgba(60, 64, 67, 0.3), 0px 1px 3px 1px rgba(60, 64, 67, 0.15);\n",
              "      fill: #174EA6;\n",
              "    }\n",
              "\n",
              "    [theme=dark] .colab-df-convert {\n",
              "      background-color: #3B4455;\n",
              "      fill: #D2E3FC;\n",
              "    }\n",
              "\n",
              "    [theme=dark] .colab-df-convert:hover {\n",
              "      background-color: #434B5C;\n",
              "      box-shadow: 0px 1px 3px 1px rgba(0, 0, 0, 0.15);\n",
              "      filter: drop-shadow(0px 1px 2px rgba(0, 0, 0, 0.3));\n",
              "      fill: #FFFFFF;\n",
              "    }\n",
              "  </style>\n",
              "\n",
              "      <script>\n",
              "        const buttonEl =\n",
              "          document.querySelector('#df-59abe00d-1fe0-47ea-8378-1cdbc1b08a79 button.colab-df-convert');\n",
              "        buttonEl.style.display =\n",
              "          google.colab.kernel.accessAllowed ? 'block' : 'none';\n",
              "\n",
              "        async function convertToInteractive(key) {\n",
              "          const element = document.querySelector('#df-59abe00d-1fe0-47ea-8378-1cdbc1b08a79');\n",
              "          const dataTable =\n",
              "            await google.colab.kernel.invokeFunction('convertToInteractive',\n",
              "                                                     [key], {});\n",
              "          if (!dataTable) return;\n",
              "\n",
              "          const docLinkHtml = 'Like what you see? Visit the ' +\n",
              "            '<a target=\"_blank\" href=https://colab.research.google.com/notebooks/data_table.ipynb>data table notebook</a>'\n",
              "            + ' to learn more about interactive tables.';\n",
              "          element.innerHTML = '';\n",
              "          dataTable['output_type'] = 'display_data';\n",
              "          await google.colab.output.renderOutput(dataTable, element);\n",
              "          const docLink = document.createElement('div');\n",
              "          docLink.innerHTML = docLinkHtml;\n",
              "          element.appendChild(docLink);\n",
              "        }\n",
              "      </script>\n",
              "    </div>\n",
              "  </div>\n",
              "  "
            ]
          },
          "metadata": {},
          "execution_count": 121
        }
      ]
    },
    {
      "cell_type": "code",
      "source": [
        "df.dtypes"
      ],
      "metadata": {
        "colab": {
          "base_uri": "https://localhost:8080/"
        },
        "id": "YA0_0DE0ih34",
        "outputId": "44b85f5c-473a-42fb-dfb7-ec8a13c0a97c"
      },
      "execution_count": 122,
      "outputs": [
        {
          "output_type": "execute_result",
          "data": {
            "text/plain": [
              "location_name         object\n",
              "the_total_mean_min    object\n",
              "the_total_mean_max    object\n",
              "dtype: object"
            ]
          },
          "metadata": {},
          "execution_count": 122
        }
      ]
    },
    {
      "cell_type": "code",
      "source": [
        "df['location_name']=df['location_name'].astype(str)\n",
        "df['the_total_mean_min']=df['the_total_mean_min'].astype(float)\n",
        "df['the_total_mean_max']=df['the_total_mean_max'].astype(float)\n",
        "df = df.head(12)\n",
        "df"
      ],
      "metadata": {
        "colab": {
          "base_uri": "https://localhost:8080/",
          "height": 426
        },
        "id": "zCJvIkqKil0g",
        "outputId": "d698a3c8-63f2-47f1-defd-dedfa496dae1"
      },
      "execution_count": 123,
      "outputs": [
        {
          "output_type": "execute_result",
          "data": {
            "text/plain": [
              "                             location_name  the_total_mean_min  \\\n",
              "0                               South Asia         103194218.0   \n",
              "1                                     Chad            201576.0   \n",
              "2         Micronesia (Federated States of)             10086.0   \n",
              "3                                 Paraguay           1008338.0   \n",
              "4   Southeast Asia, East Asia, and Oceania         118847294.0   \n",
              "5                                    Yemen           1015751.0   \n",
              "6                                  Senegal            388101.0   \n",
              "7                               Cabo Verde             32597.0   \n",
              "8                                   Sweden          22629968.0   \n",
              "9                                  Tokelau              1060.0   \n",
              "10                                Kiribati             15477.0   \n",
              "11                       Republic of Korea         102810388.0   \n",
              "\n",
              "    the_total_mean_max  \n",
              "0           96358386.0  \n",
              "1             467239.0  \n",
              "2               9618.0  \n",
              "3             967137.0  \n",
              "4          876778676.0  \n",
              "5             921256.0  \n",
              "6             972045.0  \n",
              "7              97929.0  \n",
              "8           59684355.0  \n",
              "9                978.0  \n",
              "10             30044.0  \n",
              "11          96960567.0  "
            ],
            "text/html": [
              "\n",
              "  <div id=\"df-213ac6bc-17d7-48ae-97c8-df344b650538\">\n",
              "    <div class=\"colab-df-container\">\n",
              "      <div>\n",
              "<style scoped>\n",
              "    .dataframe tbody tr th:only-of-type {\n",
              "        vertical-align: middle;\n",
              "    }\n",
              "\n",
              "    .dataframe tbody tr th {\n",
              "        vertical-align: top;\n",
              "    }\n",
              "\n",
              "    .dataframe thead th {\n",
              "        text-align: right;\n",
              "    }\n",
              "</style>\n",
              "<table border=\"1\" class=\"dataframe\">\n",
              "  <thead>\n",
              "    <tr style=\"text-align: right;\">\n",
              "      <th></th>\n",
              "      <th>location_name</th>\n",
              "      <th>the_total_mean_min</th>\n",
              "      <th>the_total_mean_max</th>\n",
              "    </tr>\n",
              "  </thead>\n",
              "  <tbody>\n",
              "    <tr>\n",
              "      <th>0</th>\n",
              "      <td>South Asia</td>\n",
              "      <td>103194218.0</td>\n",
              "      <td>96358386.0</td>\n",
              "    </tr>\n",
              "    <tr>\n",
              "      <th>1</th>\n",
              "      <td>Chad</td>\n",
              "      <td>201576.0</td>\n",
              "      <td>467239.0</td>\n",
              "    </tr>\n",
              "    <tr>\n",
              "      <th>2</th>\n",
              "      <td>Micronesia (Federated States of)</td>\n",
              "      <td>10086.0</td>\n",
              "      <td>9618.0</td>\n",
              "    </tr>\n",
              "    <tr>\n",
              "      <th>3</th>\n",
              "      <td>Paraguay</td>\n",
              "      <td>1008338.0</td>\n",
              "      <td>967137.0</td>\n",
              "    </tr>\n",
              "    <tr>\n",
              "      <th>4</th>\n",
              "      <td>Southeast Asia, East Asia, and Oceania</td>\n",
              "      <td>118847294.0</td>\n",
              "      <td>876778676.0</td>\n",
              "    </tr>\n",
              "    <tr>\n",
              "      <th>5</th>\n",
              "      <td>Yemen</td>\n",
              "      <td>1015751.0</td>\n",
              "      <td>921256.0</td>\n",
              "    </tr>\n",
              "    <tr>\n",
              "      <th>6</th>\n",
              "      <td>Senegal</td>\n",
              "      <td>388101.0</td>\n",
              "      <td>972045.0</td>\n",
              "    </tr>\n",
              "    <tr>\n",
              "      <th>7</th>\n",
              "      <td>Cabo Verde</td>\n",
              "      <td>32597.0</td>\n",
              "      <td>97929.0</td>\n",
              "    </tr>\n",
              "    <tr>\n",
              "      <th>8</th>\n",
              "      <td>Sweden</td>\n",
              "      <td>22629968.0</td>\n",
              "      <td>59684355.0</td>\n",
              "    </tr>\n",
              "    <tr>\n",
              "      <th>9</th>\n",
              "      <td>Tokelau</td>\n",
              "      <td>1060.0</td>\n",
              "      <td>978.0</td>\n",
              "    </tr>\n",
              "    <tr>\n",
              "      <th>10</th>\n",
              "      <td>Kiribati</td>\n",
              "      <td>15477.0</td>\n",
              "      <td>30044.0</td>\n",
              "    </tr>\n",
              "    <tr>\n",
              "      <th>11</th>\n",
              "      <td>Republic of Korea</td>\n",
              "      <td>102810388.0</td>\n",
              "      <td>96960567.0</td>\n",
              "    </tr>\n",
              "  </tbody>\n",
              "</table>\n",
              "</div>\n",
              "      <button class=\"colab-df-convert\" onclick=\"convertToInteractive('df-213ac6bc-17d7-48ae-97c8-df344b650538')\"\n",
              "              title=\"Convert this dataframe to an interactive table.\"\n",
              "              style=\"display:none;\">\n",
              "        \n",
              "  <svg xmlns=\"http://www.w3.org/2000/svg\" height=\"24px\"viewBox=\"0 0 24 24\"\n",
              "       width=\"24px\">\n",
              "    <path d=\"M0 0h24v24H0V0z\" fill=\"none\"/>\n",
              "    <path d=\"M18.56 5.44l.94 2.06.94-2.06 2.06-.94-2.06-.94-.94-2.06-.94 2.06-2.06.94zm-11 1L8.5 8.5l.94-2.06 2.06-.94-2.06-.94L8.5 2.5l-.94 2.06-2.06.94zm10 10l.94 2.06.94-2.06 2.06-.94-2.06-.94-.94-2.06-.94 2.06-2.06.94z\"/><path d=\"M17.41 7.96l-1.37-1.37c-.4-.4-.92-.59-1.43-.59-.52 0-1.04.2-1.43.59L10.3 9.45l-7.72 7.72c-.78.78-.78 2.05 0 2.83L4 21.41c.39.39.9.59 1.41.59.51 0 1.02-.2 1.41-.59l7.78-7.78 2.81-2.81c.8-.78.8-2.07 0-2.86zM5.41 20L4 18.59l7.72-7.72 1.47 1.35L5.41 20z\"/>\n",
              "  </svg>\n",
              "      </button>\n",
              "      \n",
              "  <style>\n",
              "    .colab-df-container {\n",
              "      display:flex;\n",
              "      flex-wrap:wrap;\n",
              "      gap: 12px;\n",
              "    }\n",
              "\n",
              "    .colab-df-convert {\n",
              "      background-color: #E8F0FE;\n",
              "      border: none;\n",
              "      border-radius: 50%;\n",
              "      cursor: pointer;\n",
              "      display: none;\n",
              "      fill: #1967D2;\n",
              "      height: 32px;\n",
              "      padding: 0 0 0 0;\n",
              "      width: 32px;\n",
              "    }\n",
              "\n",
              "    .colab-df-convert:hover {\n",
              "      background-color: #E2EBFA;\n",
              "      box-shadow: 0px 1px 2px rgba(60, 64, 67, 0.3), 0px 1px 3px 1px rgba(60, 64, 67, 0.15);\n",
              "      fill: #174EA6;\n",
              "    }\n",
              "\n",
              "    [theme=dark] .colab-df-convert {\n",
              "      background-color: #3B4455;\n",
              "      fill: #D2E3FC;\n",
              "    }\n",
              "\n",
              "    [theme=dark] .colab-df-convert:hover {\n",
              "      background-color: #434B5C;\n",
              "      box-shadow: 0px 1px 3px 1px rgba(0, 0, 0, 0.15);\n",
              "      filter: drop-shadow(0px 1px 2px rgba(0, 0, 0, 0.3));\n",
              "      fill: #FFFFFF;\n",
              "    }\n",
              "  </style>\n",
              "\n",
              "      <script>\n",
              "        const buttonEl =\n",
              "          document.querySelector('#df-213ac6bc-17d7-48ae-97c8-df344b650538 button.colab-df-convert');\n",
              "        buttonEl.style.display =\n",
              "          google.colab.kernel.accessAllowed ? 'block' : 'none';\n",
              "\n",
              "        async function convertToInteractive(key) {\n",
              "          const element = document.querySelector('#df-213ac6bc-17d7-48ae-97c8-df344b650538');\n",
              "          const dataTable =\n",
              "            await google.colab.kernel.invokeFunction('convertToInteractive',\n",
              "                                                     [key], {});\n",
              "          if (!dataTable) return;\n",
              "\n",
              "          const docLinkHtml = 'Like what you see? Visit the ' +\n",
              "            '<a target=\"_blank\" href=https://colab.research.google.com/notebooks/data_table.ipynb>data table notebook</a>'\n",
              "            + ' to learn more about interactive tables.';\n",
              "          element.innerHTML = '';\n",
              "          dataTable['output_type'] = 'display_data';\n",
              "          await google.colab.output.renderOutput(dataTable, element);\n",
              "          const docLink = document.createElement('div');\n",
              "          docLink.innerHTML = docLinkHtml;\n",
              "          element.appendChild(docLink);\n",
              "        }\n",
              "      </script>\n",
              "    </div>\n",
              "  </div>\n",
              "  "
            ]
          },
          "metadata": {},
          "execution_count": 123
        }
      ]
    },
    {
      "cell_type": "code",
      "source": [
        "from matplotlib import pyplot as plt\n",
        "\n",
        "ind = list(range(12))\n",
        "df.iloc[ind ,:].plot(kind='bar', x='location_name', y=df.columns.tolist()[1:], figsize=(12, 7), ylabel='mean', xlabel='location_name')\n",
        "plt.show()"
      ],
      "metadata": {
        "colab": {
          "base_uri": "https://localhost:8080/",
          "height": 640
        },
        "id": "LYJCH_X_eJec",
        "outputId": "64f242b3-1c45-4191-e1a3-215f7366a8e6"
      },
      "execution_count": 124,
      "outputs": [
        {
          "output_type": "display_data",
          "data": {
            "text/plain": [
              "<Figure size 864x504 with 1 Axes>"
            ],
            "image/png": "[encoded data removed]"
          },
          "metadata": {
            "needs_background": "light"
          }
        }
      ]
    },
    {
      "cell_type": "markdown",
      "source": [
        "Zapis do pliku"
      ],
      "metadata": {
        "id": "0Ld2d38Qj7pe"
      }
    },
    {
      "cell_type": "code",
      "source": [
        "# error gdy plik już istnieje\n",
        "data.write.csv('dataset.csv')\n",
        "data.write.csv('dataset.json', format='json')\n",
        "data.write.csv('dataset.parquet', format='parquet')\n",
        "# wybrane kolumny\n",
        "data.select(['location_name', 'the_total_mean']).write.csv('dataset.csv')"
      ],
      "metadata": {
        "colab": {
          "base_uri": "https://localhost:8080/",
          "height": 300
        },
        "id": "5rc6oMsFj893",
        "outputId": "655b85d9-6334-4976-a368-0bf50b06caa4"
      },
      "execution_count": 125,
      "outputs": [
        {
          "output_type": "error",
          "ename": "AnalysisException",
          "evalue": "ignored",
          "traceback": [
            "\u001b[0;31m---------------------------------------------------------------------------\u001b[0m",
            "\u001b[0;31mAnalysisException\u001b[0m                         Traceback (most recent call last)",
            "\u001b[0;32m<ipython-input-125-72e8e4ebc73e>\u001b[0m in \u001b[0;36m<module>\u001b[0;34m\u001b[0m\n\u001b[1;32m      1\u001b[0m \u001b[0;31m# error gdy plik już istnieje\u001b[0m\u001b[0;34m\u001b[0m\u001b[0;34m\u001b[0m\u001b[0m\n\u001b[0;32m----> 2\u001b[0;31m \u001b[0mdata\u001b[0m\u001b[0;34m.\u001b[0m\u001b[0mwrite\u001b[0m\u001b[0;34m.\u001b[0m\u001b[0mcsv\u001b[0m\u001b[0;34m(\u001b[0m\u001b[0;34m'dataset.csv'\u001b[0m\u001b[0;34m)\u001b[0m\u001b[0;34m\u001b[0m\u001b[0;34m\u001b[0m\u001b[0m\n\u001b[0m\u001b[1;32m      3\u001b[0m \u001b[0mdata\u001b[0m\u001b[0;34m.\u001b[0m\u001b[0mwrite\u001b[0m\u001b[0;34m.\u001b[0m\u001b[0mcsv\u001b[0m\u001b[0;34m(\u001b[0m\u001b[0;34m'dataset.json'\u001b[0m\u001b[0;34m,\u001b[0m \u001b[0mformat\u001b[0m\u001b[0;34m=\u001b[0m\u001b[0;34m'json'\u001b[0m\u001b[0;34m)\u001b[0m\u001b[0;34m\u001b[0m\u001b[0;34m\u001b[0m\u001b[0m\n\u001b[1;32m      4\u001b[0m \u001b[0mdata\u001b[0m\u001b[0;34m.\u001b[0m\u001b[0mwrite\u001b[0m\u001b[0;34m.\u001b[0m\u001b[0mcsv\u001b[0m\u001b[0;34m(\u001b[0m\u001b[0;34m'dataset.parquet'\u001b[0m\u001b[0;34m,\u001b[0m \u001b[0mformat\u001b[0m\u001b[0;34m=\u001b[0m\u001b[0;34m'parquet'\u001b[0m\u001b[0;34m)\u001b[0m\u001b[0;34m\u001b[0m\u001b[0;34m\u001b[0m\u001b[0m\n\u001b[1;32m      5\u001b[0m \u001b[0;31m# wybrane kolumny\u001b[0m\u001b[0;34m\u001b[0m\u001b[0;34m\u001b[0m\u001b[0m\n",
            "\u001b[0;32m/usr/local/lib/python3.9/dist-packages/pyspark/sql/readwriter.py\u001b[0m in \u001b[0;36mcsv\u001b[0;34m(self, path, mode, compression, sep, quote, escape, header, nullValue, escapeQuotes, quoteAll, dateFormat, timestampFormat, ignoreLeadingWhiteSpace, ignoreTrailingWhiteSpace, charToEscapeQuoteEscaping, encoding, emptyValue, lineSep)\u001b[0m\n\u001b[1;32m   1025\u001b[0m                        \u001b[0mcharToEscapeQuoteEscaping\u001b[0m\u001b[0;34m=\u001b[0m\u001b[0mcharToEscapeQuoteEscaping\u001b[0m\u001b[0;34m,\u001b[0m\u001b[0;34m\u001b[0m\u001b[0;34m\u001b[0m\u001b[0m\n\u001b[1;32m   1026\u001b[0m                        encoding=encoding, emptyValue=emptyValue, lineSep=lineSep)\n\u001b[0;32m-> 1027\u001b[0;31m         \u001b[0mself\u001b[0m\u001b[0;34m.\u001b[0m\u001b[0m_jwrite\u001b[0m\u001b[0;34m.\u001b[0m\u001b[0mcsv\u001b[0m\u001b[0;34m(\u001b[0m\u001b[0mpath\u001b[0m\u001b[0;34m)\u001b[0m\u001b[0;34m\u001b[0m\u001b[0;34m\u001b[0m\u001b[0m\n\u001b[0m\u001b[1;32m   1028\u001b[0m \u001b[0;34m\u001b[0m\u001b[0m\n\u001b[1;32m   1029\u001b[0m     \u001b[0;34m@\u001b[0m\u001b[0msince\u001b[0m\u001b[0;34m(\u001b[0m\u001b[0;36m1.5\u001b[0m\u001b[0;34m)\u001b[0m\u001b[0;34m\u001b[0m\u001b[0;34m\u001b[0m\u001b[0m\n",
            "\u001b[0;32m/usr/local/lib/python3.9/dist-packages/py4j/java_gateway.py\u001b[0m in \u001b[0;36m__call__\u001b[0;34m(self, *args)\u001b[0m\n\u001b[1;32m   1302\u001b[0m \u001b[0;34m\u001b[0m\u001b[0m\n\u001b[1;32m   1303\u001b[0m         \u001b[0manswer\u001b[0m \u001b[0;34m=\u001b[0m \u001b[0mself\u001b[0m\u001b[0;34m.\u001b[0m\u001b[0mgateway_client\u001b[0m\u001b[0;34m.\u001b[0m\u001b[0msend_command\u001b[0m\u001b[0;34m(\u001b[0m\u001b[0mcommand\u001b[0m\u001b[0;34m)\u001b[0m\u001b[0;34m\u001b[0m\u001b[0;34m\u001b[0m\u001b[0m\n\u001b[0;32m-> 1304\u001b[0;31m         return_value = get_return_value(\n\u001b[0m\u001b[1;32m   1305\u001b[0m             answer, self.gateway_client, self.target_id, self.name)\n\u001b[1;32m   1306\u001b[0m \u001b[0;34m\u001b[0m\u001b[0m\n",
            "\u001b[0;32m/usr/local/lib/python3.9/dist-packages/pyspark/sql/utils.py\u001b[0m in \u001b[0;36mdeco\u001b[0;34m(*a, **kw)\u001b[0m\n\u001b[1;32m    132\u001b[0m                 \u001b[0;31m# Hide where the exception came from that shows a non-Pythonic\u001b[0m\u001b[0;34m\u001b[0m\u001b[0;34m\u001b[0m\u001b[0m\n\u001b[1;32m    133\u001b[0m                 \u001b[0;31m# JVM exception message.\u001b[0m\u001b[0;34m\u001b[0m\u001b[0;34m\u001b[0m\u001b[0m\n\u001b[0;32m--> 134\u001b[0;31m                 \u001b[0mraise_from\u001b[0m\u001b[0;34m(\u001b[0m\u001b[0mconverted\u001b[0m\u001b[0;34m)\u001b[0m\u001b[0;34m\u001b[0m\u001b[0;34m\u001b[0m\u001b[0m\n\u001b[0m\u001b[1;32m    135\u001b[0m             \u001b[0;32melse\u001b[0m\u001b[0;34m:\u001b[0m\u001b[0;34m\u001b[0m\u001b[0;34m\u001b[0m\u001b[0m\n\u001b[1;32m    136\u001b[0m                 \u001b[0;32mraise\u001b[0m\u001b[0;34m\u001b[0m\u001b[0;34m\u001b[0m\u001b[0m\n",
            "\u001b[0;32m/usr/local/lib/python3.9/dist-packages/pyspark/sql/utils.py\u001b[0m in \u001b[0;36mraise_from\u001b[0;34m(e)\u001b[0m\n",
            "\u001b[0;31mAnalysisException\u001b[0m: path file:/content/dataset.csv already exists.;"
          ]
        }
      ]
    }
  ]
}